{
 "cells": [
  {
   "cell_type": "code",
   "execution_count": 2,
   "metadata": {},
   "outputs": [],
   "source": [
    "import numpy as np\n",
    "import torch\n",
    "from torch.utils.data import DataLoader, Dataset, TensorDataset\n",
    "from dataclasses import dataclass\n",
    "from tqdm import tqdm"
   ]
  },
  {
   "cell_type": "code",
   "execution_count": 4,
   "metadata": {},
   "outputs": [],
   "source": [
    "@dataclass\n",
    "class ProcessConfig:\n",
    "    \"\"\"configure the data generating process\"\"\"\n",
    "    period: int = 40\n",
    "    seq_len: int = 10000\n",
    "    num_seeds: int = 3 \n",
    "\n",
    "class DataGeneratingProcess:\n",
    "    \"\"\"data generating process\"\"\"\n",
    "    def __init__(self, cfg):\n",
    "        self.seq_len = cfg.seq_len\n",
    "        self.num_seeds = cfg.num_seeds\n",
    "        self.period = cfg.period\n",
    "\n",
    "    def generate_data(self):\n",
    "        \"\"\"generate data sequences over the specified number of seeds\"\"\"\n",
    "        xseq, yseq, taskseq = [], [], []\n",
    "        tseq = []\n",
    "        for _ in range(self.num_seeds):\n",
    "            dat = self.generate_sequence(np.random.randint(0, 10000))\n",
    "            xseq.append(dat[0])\n",
    "            yseq.append(dat[1])\n",
    "            taskseq.append(dat[2])\n",
    "            tseq.append(np.arange(self.seq_len))\n",
    "\n",
    "        xseq = np.array(xseq)\n",
    "        yseq = np.array(yseq)\n",
    "        tseq = np.array(tseq)\n",
    "        taskseq = np.array(taskseq)\n",
    "\n",
    "        self.data = {'x': xseq,\n",
    "                     'y': yseq,\n",
    "                     't': tseq,\n",
    "                     'task': taskseq}\n",
    "\n",
    "    def generate_sequence(self, seed):\n",
    "        \"\"\"generate a sequence of data\"\"\"\n",
    "        np.random.seed(seed)\n",
    "\n",
    "        # generate samples from U[-2, -1] union U[1, 2]\n",
    "        x1 = np.random.uniform(-2, -1, self.seq_len)\n",
    "        x2 = np.random.uniform(1, 2, self.seq_len)\n",
    "        mask = np.random.choice([0, 1], p=[0.5, 0.5], size=self.seq_len)\n",
    "        Xdat = x1 * mask + x2 * (1 - mask)\n",
    "\n",
    "        # create labels\n",
    "        T = self.period\n",
    "        tind = np.array((np.arange(0, self.seq_len) % T) < (T // 2))\n",
    "        tind = tind.astype(int)\n",
    "        ind = np.where(tind == 1)[0]\n",
    "\n",
    "        Ydat = Xdat > 0\n",
    "        Ydat[ind] = Xdat[ind] < 0\n",
    "        Ydat = Ydat.astype(int)\n",
    "\n",
    "        Xdat = Xdat.reshape(-1, 1)\n",
    "\n",
    "        return Xdat, Ydat, tind\n",
    "    \n",
    "    def generate_at_time(self, t, num_samples):\n",
    "        \"\"\"generate a test sample of data (x, y) ~ p_t from the marginal \n",
    "        of the process at time t. This is used to evaluate the instantaneous\n",
    "        loss of the predictor\n",
    "        \"\"\"\n",
    "        # Generate samples from U[-2, -1] union U[1, 2]\n",
    "        x1 = np.random.uniform(-2, -1, num_samples)\n",
    "        x2 = np.random.uniform(1, 2, num_samples)\n",
    "        mask = np.random.choice([0, 1], p=[0.5, 0.5], size=num_samples)\n",
    "        Xdat = x1 * mask + x2 * (1 - mask)\n",
    "\n",
    "        # create labels\n",
    "        T = self.period\n",
    "        if (t % T) < (T // 2):\n",
    "            Ydat = Xdat < 0\n",
    "        else:\n",
    "            Ydat = Xdat > 0\n",
    "\n",
    "        Xdat = Xdat.reshape(-1, 1)\n",
    "        tdat = t * np.ones(num_samples)\n",
    "\n",
    "        x = torch.from_numpy(Xdat).float()\n",
    "        y = torch.from_numpy(Ydat).long()\n",
    "        t = torch.from_numpy(tdat).float()\n",
    "        return x, y, t\n",
    "    \n",
    "class SyntheticDataset(Dataset):\n",
    "    \"\"\"Form the torch dataset\"\"\"\n",
    "    def __init__(self, data, idx, run_id, test, past=None):\n",
    "        self.x = torch.from_numpy(data['x']).float()\n",
    "        self.y = torch.from_numpy(data['y']).long()\n",
    "        self.t = torch.from_numpy(data['t']).float()\n",
    "\n",
    "        if test:\n",
    "            # Use data from time 'idx' onwards for testing\n",
    "            self.x = self.x[run_id, idx:]\n",
    "            self.y = self.y[run_id, idx:]\n",
    "            self.t = self.t[run_id, idx:]\n",
    "        else:\n",
    "            if past is None:\n",
    "                #  # Use data up to time 'idx' onwards for training (full history)\n",
    "                self.x = self.x[run_id, :idx]\n",
    "                self.y = self.y[run_id, :idx]\n",
    "                self.t = self.t[run_id, :idx]\n",
    "            else:\n",
    "                # Use the most recent past data up to time 'idx' onwards for training (partial history)\n",
    "                self.x = self.x[run_id, idx-past:idx]\n",
    "                self.y = self.y[run_id, idx-past:idx]\n",
    "                self.t = self.t[run_id, idx-past:idx]\n",
    "\n",
    "    def __len__(self):\n",
    "        return len(self.y)\n",
    "\n",
    "    def __getitem__(self, idx):\n",
    "        x = self.x[idx]\n",
    "        y = self.y[idx]\n",
    "        t = self.t[idx]\n",
    "        return x, y, t\n",
    "    \n",
    "\n",
    "class Continuum:\n",
    "    def __init__(self, data, t_end, run_id):\n",
    "        \"\"\"Initialize with the sequences drawn from the process.\"\"\"\n",
    "        self.x = torch.from_numpy(data['x'][run_id]).float()\n",
    "        self.y = torch.from_numpy(data['y'][run_id]).long()\n",
    "        self.t = torch.from_numpy(data['t'][run_id]).float()\n",
    "        self.present = 0\n",
    "        self.t_end = t_end\n",
    "\n",
    "    def __iter__(self):\n",
    "        \"\"\"Return the iterator object itself.\"\"\"\n",
    "        return self\n",
    "    \n",
    "    def __next__(self):\n",
    "        \"\"\"Return the next sample in the sequence or raise StopIteration.\"\"\"\n",
    "        if self.present >= self.t_end:\n",
    "            raise StopIteration\n",
    "        \n",
    "        # get current sample\n",
    "        x = self.x[self.present].unsqueeze(0)\n",
    "        y = self.y[self.present]\n",
    "        t = self.t[self.present]\n",
    "\n",
    "        self.present += 1\n",
    "        return x, y, t\n",
    "    \n",
    "    def get_test_loader_at_present(self):\n",
    "        test_x = self.x[self.present:]\n",
    "        test_y = self.y[self.present:]\n",
    "        test_t = self.t[self.present:]\n",
    "        test_data = TensorDataset(test_x, test_y, test_t)\n",
    "        test_loader = DataLoader(\n",
    "            test_data, \n",
    "            batch_size=100,\n",
    "            shuffle=False\n",
    "        )\n",
    "        return test_loader"
   ]
  },
  {
   "cell_type": "code",
   "execution_count": 5,
   "metadata": {},
   "outputs": [],
   "source": [
    "import torch.nn as nn\n",
    "\n",
    "class TimeEmbedding(nn.Module):\n",
    "    \"\"\"form the time-embedding\"\"\"\n",
    "    def __init__(self, tdim=10):\n",
    "        super(TimeEmbedding, self).__init__()\n",
    "        self.freqs = (2 * np.pi) / torch.arange(2, tdim + 1, 2).unsqueeze(0)\n",
    "\n",
    "    def forward(self, t):\n",
    "        sin_emb = torch.sin(self.freqs.to(t.device) * t)\n",
    "        cos_emb = torch.cos(self.freqs.to(t.device) * t)\n",
    "        return torch.cat([sin_emb, cos_emb], dim=-1)\n",
    "    \n",
    "class MLP(nn.Module):\n",
    "    \"\"\"a simple MLP architecture for implementing both vanilla-MLP and\n",
    "    prospective-MLP\n",
    "    \"\"\"\n",
    "    def __init__(self, in_dim=1, out_dim=2, hidden_dim=32, tdim=50, prospective=False):\n",
    "        super(MLP, self).__init__()\n",
    "        self.prospective = prospective\n",
    "        if prospective:\n",
    "            self.time_embed = TimeEmbedding(tdim=tdim)\n",
    "            self.fc1 = nn.Linear(in_dim + tdim, hidden_dim)\n",
    "        else:\n",
    "            self.fc1 = nn.Linear(in_dim, hidden_dim)\n",
    "        self.relu = nn.ReLU()\n",
    "        self.fc2 = nn.Linear(hidden_dim, out_dim)\n",
    "\n",
    "    def forward(self, x, t):\n",
    "        if self.prospective:\n",
    "            t = self.time_embed(t.unsqueeze(-1))\n",
    "            x = torch.cat([x, t], dim=-1)\n",
    "        x = self.fc1(x)\n",
    "        x = self.relu(x)\n",
    "        x = self.fc2(x)\n",
    "        return x"
   ]
  },
  {
   "cell_type": "code",
   "execution_count": 6,
   "metadata": {},
   "outputs": [],
   "source": [
    "def evaluate(model, loader):\n",
    "    perrs = []\n",
    "    with torch.no_grad():\n",
    "        for batch in loader:\n",
    "            batch = [b.to(device) for b in batch]\n",
    "            x, y, t = batch\n",
    "            logits = model(x, t)\n",
    "            probs = torch.softmax(logits, dim=1)\n",
    "            err = (probs.argmax(dim=1) != y).float()\n",
    "            perrs.append(err.cpu().numpy())\n",
    "    perrs = np.concatenate(perrs)\n",
    "    ploss = perrs.mean()\n",
    "    return ploss"
   ]
  },
  {
   "cell_type": "code",
   "execution_count": 7,
   "metadata": {},
   "outputs": [],
   "source": [
    "period = 20\n",
    "t_end = 5000\n",
    "cfg = ProcessConfig(\n",
    "    period=period,\n",
    "    seq_len=10000,\n",
    "    num_seeds=3,\n",
    ")\n",
    "dp = DataGeneratingProcess(cfg)\n",
    "dp.generate_data()\n",
    "\n",
    "device = torch.device(\"cuda\" if torch.cuda.is_available() else \"cpu\")"
   ]
  },
  {
   "cell_type": "code",
   "execution_count": 8,
   "metadata": {},
   "outputs": [
    {
     "name": "stdout",
     "output_type": "stream",
     "text": [
      "Evaluating FTL ...\n",
      "Rep 0 ...\n"
     ]
    },
    {
     "name": "stderr",
     "output_type": "stream",
     "text": [
      "Current Time [5000/5000] - Loss: 0.586 - Prosp. Loss: 0.496: : 5000t [03:43, 22.34t/s]\n"
     ]
    },
    {
     "name": "stdout",
     "output_type": "stream",
     "text": [
      "Rep 1 ...\n"
     ]
    },
    {
     "name": "stderr",
     "output_type": "stream",
     "text": [
      "Current Time [5000/5000] - Loss: 0.408 - Prosp. Loss: 0.503: : 5000t [03:41, 22.55t/s]\n"
     ]
    },
    {
     "name": "stdout",
     "output_type": "stream",
     "text": [
      "Rep 2 ...\n"
     ]
    },
    {
     "name": "stderr",
     "output_type": "stream",
     "text": [
      "Current Time [5000/5000] - Loss: 0.512 - Prosp. Loss: 0.496: : 5000t [03:41, 22.62t/s]\n"
     ]
    },
    {
     "name": "stdout",
     "output_type": "stream",
     "text": [
      "Evaluating P-MLP ...\n",
      "Rep 0 ...\n"
     ]
    },
    {
     "name": "stderr",
     "output_type": "stream",
     "text": [
      "Current Time [5000/5000] - Loss: 0.127 - Prosp. Loss: 0.000: : 5000t [04:20, 19.21t/s]\n"
     ]
    },
    {
     "name": "stdout",
     "output_type": "stream",
     "text": [
      "Rep 1 ...\n"
     ]
    },
    {
     "name": "stderr",
     "output_type": "stream",
     "text": [
      "Current Time [5000/5000] - Loss: 0.102 - Prosp. Loss: 0.000: : 5000t [04:19, 19.29t/s]\n"
     ]
    },
    {
     "name": "stdout",
     "output_type": "stream",
     "text": [
      "Rep 2 ...\n"
     ]
    },
    {
     "name": "stderr",
     "output_type": "stream",
     "text": [
      "Current Time [5000/5000] - Loss: 0.059 - Prosp. Loss: 0.000: : 5000t [04:19, 19.25t/s]\n"
     ]
    }
   ],
   "source": [
    "methods = [\n",
    "    {\"name\": \"FTL\", \"is_prospective\": False},\n",
    "    {\"name\": \"P-MLP\", \"is_prospective\": True},\n",
    "]\n",
    "\n",
    "prospective_risk = {}\n",
    "for method in methods:\n",
    "    print(f\"Evaluating {method['name']} ...\")\n",
    "    prospective_losses = []\n",
    "    for rep in range(cfg.num_seeds):\n",
    "        print(f\"Rep {rep} ...\")\n",
    "        seed = 0\n",
    "        acorn = seed * 1000 + 1996\n",
    "\n",
    "        continuum = Continuum(dp.data, t_end=t_end, run_id=seed)\n",
    "        progress_bar = tqdm(continuum, desc=\"Training\", unit=\"t\")\n",
    "\n",
    "        model = MLP(prospective=method[\"is_prospective\"])\n",
    "        model.to(device)\n",
    "\n",
    "        optimizer = torch.optim.SGD(\n",
    "            model.parameters(), \n",
    "            lr=0.01,\n",
    "            # momentum=0.9, \n",
    "            # nesterov=True,\n",
    "            # weight_decay=0.00001\n",
    "        )\n",
    "        criterion = nn.CrossEntropyLoss()\n",
    "\n",
    "        ploss_list = []\n",
    "        for t_current, (x, y, t) in enumerate(progress_bar):\n",
    "            model.eval()\n",
    "            ploss = evaluate(model, continuum.get_test_loader_at_present())\n",
    "            ploss_list.append(ploss)\n",
    "\n",
    "            model.train()\n",
    "            logits = model(x, t)\n",
    "            loss = criterion(logits.squeeze(), y)\n",
    "            optimizer.zero_grad()\n",
    "            loss.backward()\n",
    "            optimizer.step()\n",
    "\n",
    "            progress_bar.set_description(f\"Current Time [{t_current + 1}/{t_end}] - Loss: {loss.item():.3f} - Prosp. Loss: {ploss:.3f}\")\n",
    "\n",
    "        prospective_losses.append(ploss_list)\n",
    "    prisk = np.stack(prospective_losses).mean(axis=0)\n",
    "    prospective_risk[method[\"name\"]] = prisk"
   ]
  },
  {
   "cell_type": "code",
   "execution_count": 9,
   "metadata": {},
   "outputs": [],
   "source": [
    "# save the results\n",
    "import pickle\n",
    "with open(f\"online_pl_results.pkl\", \"wb\") as f:\n",
    "    pickle.dump({\n",
    "        \"prospective_risk\": prospective_risk\n",
    "    }, f)"
   ]
  },
  {
   "cell_type": "code",
   "execution_count": null,
   "metadata": {},
   "outputs": [],
   "source": [
    "# import pickle\n",
    "\n",
    "# with open(\"results_lambda_0_p_0.0.pkl\", \"rb\") as file:\n",
    "#     results = pickle.load(file)\n",
    "\n",
    "# batch_prisk = results['prisk']['Prospective']\n",
    "# batch_t_list = np.arange(20, 500, 1)"
   ]
  },
  {
   "cell_type": "code",
   "execution_count": 11,
   "metadata": {},
   "outputs": [],
   "source": [
    "import matplotlib.pyplot as plt\n",
    "import seaborn as sns\n",
    "plt.style.use(\"seaborn-v0_8-whitegrid\")\n",
    "sns.set(context='poster',\n",
    "            style='ticks',\n",
    "            font_scale=0.9,\n",
    "            rc={'axes.grid':True,\n",
    "                'grid.color':'.9',\n",
    "                'grid.linewidth':0.75})"
   ]
  },
  {
   "cell_type": "code",
   "execution_count": 18,
   "metadata": {},
   "outputs": [
    {
     "data": {
      "image/png": "[encoded data removed]",
      "text/plain": [
       "<Figure size 1200x400 with 1 Axes>"
      ]
     },
     "metadata": {},
     "output_type": "display_data"
    }
   ],
   "source": [
    "fig, ax = plt.subplots(figsize=(12, 4))\n",
    "\n",
    "lw = 4\n",
    "fontsize = 25\n",
    "\n",
    "online_t_list = np.arange(t_end)\n",
    "\n",
    "ax.plot(online_t_list, prospective_risk['FTL'], label=\"MLP\", lw=lw)\n",
    "ax.plot(online_t_list, prospective_risk['P-MLP'], label=\"P-MLP\", lw=lw)\n",
    "\n",
    "ax.plot(online_t_list, np.zeros_like(online_t_list), lw=lw, ls='dashed', color='k', label=\"Bayes Risk\")\n",
    "ax.plot(online_t_list, 0.5*np.ones_like(online_t_list), lw=lw, ls='dashed', color='#238b45', label=\"Chance Risk\")\n",
    "\n",
    "ax.tick_params(axis='both', labelsize=fontsize)\n",
    "\n",
    "ax.set_xlabel(\"Time (t)\", fontsize=fontsize)\n",
    "ax.set_ylabel(\"Prospective Risk\", fontsize=fontsize)\n",
    "ax.legend(fontsize=fontsize)\n",
    "\n",
    "plt.savefig(f\"figures/5_online_training.pdf\", bbox_inches='tight')\n",
    "plt.show()"
   ]
  }
 ],
 "metadata": {
  "kernelspec": {
   "display_name": ".venv",
   "language": "python",
   "name": "python3"
  },
  "language_info": {
   "codemirror_mode": {
    "name": "ipython",
    "version": 3
   },
   "file_extension": ".py",
   "mimetype": "text/x-python",
   "name": "python",
   "nbconvert_exporter": "python",
   "pygments_lexer": "ipython3",
   "version": "3.11.11"
  }
 },
 "nbformat": 4,
 "nbformat_minor": 2
}
