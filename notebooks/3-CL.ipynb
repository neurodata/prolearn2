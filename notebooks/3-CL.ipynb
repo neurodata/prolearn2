{
 "cells": [
  {
   "cell_type": "code",
   "execution_count": 13,
   "metadata": {},
   "outputs": [],
   "source": [
    "import torch\n",
    "import torch.nn as nn\n",
    "import torch.nn.functional as F\n",
    "import torchvision\n",
    "from torch.utils.data import DataLoader, Dataset\n",
    "\n",
    "import numpy as np\n",
    "import matplotlib.pyplot as plt\n",
    "from tqdm import tqdm\n",
    "from copy import deepcopy\n",
    "import random"
   ]
  },
  {
   "cell_type": "code",
   "execution_count": 14,
   "metadata": {},
   "outputs": [],
   "source": [
    "class PermutedMNIST(Dataset):\n",
    "    \"\"\"Form the permuted MNIST\"\"\"\n",
    "    def __init__(self, permutation, task_id, train=True):\n",
    "        dataset = torchvision.datasets.MNIST(root='data', train=train, download=True)\n",
    "        self.images = dataset.data[:1000].unsqueeze(1).numpy()\n",
    "        self.targets = dataset.targets[:1000]\n",
    "        self.permutation = permutation\n",
    "        self.task_id = torch.Tensor([task_id])\n",
    "        self.transform = torchvision.transforms.Compose([\n",
    "            torchvision.transforms.ToTensor(),\n",
    "            torchvision.transforms.Normalize(mean=[0.50], std=[0.25])\n",
    "        ])\n",
    "\n",
    "    def __len__(self):\n",
    "        return len(self.targets)\n",
    "\n",
    "    def __getitem__(self, idx):\n",
    "        image, target = self.images[idx], self.targets[idx]\n",
    "        image = self.transform(image)\n",
    "        image = image.flatten(0, -1)[self.permutation]\n",
    "        return image, target, self.task_id"
   ]
  },
  {
   "cell_type": "code",
   "execution_count": 15,
   "metadata": {},
   "outputs": [],
   "source": [
    "class MLP(nn.Module):\n",
    "    \"\"\"a simple MLP architecture\n",
    "    \"\"\"\n",
    "    def __init__(self, in_dim=28*28, out_dim=10, hidden_dim=100):\n",
    "        super(MLP, self).__init__()\n",
    "        self.fc1 = nn.Linear(in_dim, hidden_dim)\n",
    "        self.fc2 = nn.Linear(hidden_dim, hidden_dim)\n",
    "        self.fc3 = nn.Linear(hidden_dim, out_dim)\n",
    "        self.relu = nn.ReLU()\n",
    "\n",
    "    def forward(self, x, t):\n",
    "        x = self.fc1(x)\n",
    "        x = self.relu(x)\n",
    "        x = self.fc2(x)\n",
    "        x = self.relu(x)\n",
    "        x = self.fc3(x)\n",
    "        return x\n",
    "    \n",
    "class taskMLP(nn.Module):\n",
    "    \"\"\"a simple MLP architecture\n",
    "    \"\"\"\n",
    "    def __init__(self, in_dim=28*28, out_dim=10, hidden_dim=100, tdim=40):\n",
    "        super(taskMLP, self).__init__()\n",
    "        self.fc1 = nn.Linear(in_dim + tdim , hidden_dim)\n",
    "        self.fc2 = nn.Linear(hidden_dim, hidden_dim)\n",
    "        self.fc3 = nn.Linear(hidden_dim, out_dim)\n",
    "        self.relu = nn.ReLU()\n",
    "        self.tdim = tdim\n",
    "\n",
    "    def forward(self, x, t):\n",
    "        t = F.one_hot(t.long(), self.tdim).squeeze()\n",
    "        x = torch.cat([x, t], dim=-1)\n",
    "        x = self.fc1(x)\n",
    "        x = self.relu(x)\n",
    "        x = self.fc2(x)\n",
    "        x = self.relu(x)\n",
    "        x = self.fc3(x)\n",
    "        return x"
   ]
  },
  {
   "cell_type": "code",
   "execution_count": 16,
   "metadata": {},
   "outputs": [],
   "source": [
    "def set_seed(acorn):\n",
    "    \"\"\"set random seed\"\"\"\n",
    "    random.seed(acorn)\n",
    "    np.random.seed(acorn)\n",
    "    torch.manual_seed(acorn)\n",
    "    torch.cuda.manual_seed(acorn)\n",
    "    torch.cuda.manual_seed_all(acorn)\n",
    "\n",
    "def get_dataloader(train_dataset, test_dataset):\n",
    "    trainloader = DataLoader(\n",
    "        train_dataset,\n",
    "        batch_size=10,\n",
    "        shuffle=True,\n",
    "        drop_last=False\n",
    "    )\n",
    "    testloader = DataLoader(\n",
    "        test_dataset, \n",
    "        batch_size=100,\n",
    "        shuffle=False\n",
    "    )\n",
    "    return trainloader, testloader\n",
    "\n",
    "class Trainer:\n",
    "    \"\"\"trainer class for the models\"\"\"\n",
    "    def __init__(self, model, train_loader, optimizer, device, verbose=False):\n",
    "        self.model = model\n",
    "        self.train_loader = train_loader\n",
    "\n",
    "        self.criterion = nn.CrossEntropyLoss()\n",
    "        self.optimizer = optimizer\n",
    "\n",
    "        self.device = device\n",
    "        self.verbose = verbose\n",
    "\n",
    "    def train_one_epoch(self):\n",
    "        self.model.train()\n",
    "        total_loss = 0.0\n",
    "        \n",
    "        for batch in self.train_loader:\n",
    "            batch = [b.to(self.device) for b in batch]\n",
    "            x, y, t = batch\n",
    "\n",
    "            logits = self.model(x, t)\n",
    "            loss = self.criterion(logits.squeeze(), y)\n",
    "            self.optimizer.zero_grad()  \n",
    "            loss.backward()  \n",
    "\n",
    "            self.optimizer.step() \n",
    "            total_loss += loss.item()\n",
    "\n",
    "        return total_loss / len(self.train_loader)\n",
    "\n",
    "    def evaluate(self, model=None, test_loader=None):\n",
    "        if model:\n",
    "            self.model = model\n",
    "        self.model.eval()\n",
    "        errors = []\n",
    "        with torch.no_grad():\n",
    "            for batch in test_loader:\n",
    "                batch = [b.to(self.device) for b in batch]\n",
    "                x, y, t = batch\n",
    "                logits = self.model(x, t)\n",
    "                probs = torch.softmax(logits, dim=1)\n",
    "                err = (probs.argmax(dim=1) != y).float()\n",
    "                errors.append(err.cpu().numpy())\n",
    "        errors = np.concatenate(errors)\n",
    "        return 1 - np.mean(errors)\n",
    "\n",
    "    def train(self, num_epochs):\n",
    "        progress_bar = tqdm(range(num_epochs), desc=\"Training\", unit=\"epoch\")\n",
    "        for epoch in progress_bar:\n",
    "            train_loss = self.train_one_epoch()\n",
    "            if self.verbose:\n",
    "                progress_bar.set_description(f\"Epoch [{epoch + 1}/{num_epochs}] - Loss: {train_loss:.4f}\")"
   ]
  },
  {
   "cell_type": "code",
   "execution_count": 17,
   "metadata": {},
   "outputs": [],
   "source": [
    "# set_seed(1996)"
   ]
  },
  {
   "cell_type": "code",
   "execution_count": 23,
   "metadata": {},
   "outputs": [
    {
     "name": "stdout",
     "output_type": "stream",
     "text": [
      "Training on task 0...\n"
     ]
    },
    {
     "name": "stderr",
     "output_type": "stream",
     "text": [
      "Epoch [10/10] - Loss: 0.1445: 100%|██████████| 10/10 [00:02<00:00,  4.17epoch/s]\n"
     ]
    },
    {
     "name": "stdout",
     "output_type": "stream",
     "text": [
      "Accuracy on task 1: 0.864\n",
      "Accuracy on task 1: 0.864\n",
      "Training on task 1...\n"
     ]
    },
    {
     "name": "stderr",
     "output_type": "stream",
     "text": [
      "Epoch [10/10] - Loss: 0.1143: 100%|██████████| 10/10 [00:02<00:00,  3.98epoch/s]\n"
     ]
    },
    {
     "name": "stdout",
     "output_type": "stream",
     "text": [
      "Accuracy on task 2: 0.664\n",
      "Accuracy on task 1: 0.851\n",
      "Training on task 2...\n"
     ]
    },
    {
     "name": "stderr",
     "output_type": "stream",
     "text": [
      "Epoch [10/10] - Loss: 0.1460: 100%|██████████| 10/10 [00:02<00:00,  4.27epoch/s]\n"
     ]
    },
    {
     "name": "stdout",
     "output_type": "stream",
     "text": [
      "Accuracy on task 3: 0.512\n",
      "Accuracy on task 1: 0.832\n",
      "Training on task 3...\n"
     ]
    },
    {
     "name": "stderr",
     "output_type": "stream",
     "text": [
      "Epoch [10/10] - Loss: 0.2405: 100%|██████████| 10/10 [00:02<00:00,  4.25epoch/s]\n"
     ]
    },
    {
     "name": "stdout",
     "output_type": "stream",
     "text": [
      "Accuracy on task 4: 0.354\n",
      "Accuracy on task 1: 0.823\n",
      "Training on task 4...\n"
     ]
    },
    {
     "name": "stderr",
     "output_type": "stream",
     "text": [
      "Epoch [10/10] - Loss: 0.2898: 100%|██████████| 10/10 [00:02<00:00,  3.92epoch/s]\n"
     ]
    },
    {
     "name": "stdout",
     "output_type": "stream",
     "text": [
      "Accuracy on task 5: 0.407\n",
      "Accuracy on task 1: 0.835\n",
      "Training on task 5...\n"
     ]
    },
    {
     "name": "stderr",
     "output_type": "stream",
     "text": [
      "Epoch [10/10] - Loss: 0.2900: 100%|██████████| 10/10 [00:02<00:00,  3.89epoch/s]\n"
     ]
    },
    {
     "name": "stdout",
     "output_type": "stream",
     "text": [
      "Accuracy on task 6: 0.262\n",
      "Accuracy on task 1: 0.755\n",
      "Training on task 6...\n"
     ]
    },
    {
     "name": "stderr",
     "output_type": "stream",
     "text": [
      "Epoch [10/10] - Loss: 0.3106: 100%|██████████| 10/10 [00:02<00:00,  4.13epoch/s]\n"
     ]
    },
    {
     "name": "stdout",
     "output_type": "stream",
     "text": [
      "Accuracy on task 7: 0.319\n",
      "Accuracy on task 1: 0.782\n",
      "Training on task 7...\n"
     ]
    },
    {
     "name": "stderr",
     "output_type": "stream",
     "text": [
      "Epoch [10/10] - Loss: 0.2288: 100%|██████████| 10/10 [00:02<00:00,  3.84epoch/s]\n"
     ]
    },
    {
     "ename": "KeyboardInterrupt",
     "evalue": "",
     "output_type": "error",
     "traceback": [
      "\u001b[0;31m---------------------------------------------------------------------------\u001b[0m",
      "\u001b[0;31mKeyboardInterrupt\u001b[0m                         Traceback (most recent call last)",
      "Cell \u001b[0;32mIn[23], line 43\u001b[0m\n\u001b[1;32m     40\u001b[0m trainer\u001b[38;5;241m.\u001b[39mtrain(num_epochs\u001b[38;5;241m=\u001b[39mnum_epochs)\n\u001b[1;32m     42\u001b[0m curr_acc \u001b[38;5;241m=\u001b[39m trainer\u001b[38;5;241m.\u001b[39mevaluate(test_loader\u001b[38;5;241m=\u001b[39minitial_task_testloader)\n\u001b[0;32m---> 43\u001b[0m initial_acc \u001b[38;5;241m=\u001b[39m \u001b[43mtrainer\u001b[49m\u001b[38;5;241;43m.\u001b[39;49m\u001b[43mevaluate\u001b[49m\u001b[43m(\u001b[49m\u001b[43mtest_loader\u001b[49m\u001b[38;5;241;43m=\u001b[39;49m\u001b[43mtestloader\u001b[49m\u001b[43m)\u001b[49m\n\u001b[1;32m     45\u001b[0m \u001b[38;5;28mprint\u001b[39m(\u001b[38;5;124mf\u001b[39m\u001b[38;5;124m\"\u001b[39m\u001b[38;5;124mAccuracy on task \u001b[39m\u001b[38;5;132;01m{\u001b[39;00mt\u001b[38;5;241m+\u001b[39m\u001b[38;5;241m1\u001b[39m\u001b[38;5;132;01m}\u001b[39;00m\u001b[38;5;124m: \u001b[39m\u001b[38;5;132;01m{\u001b[39;00mcurr_acc\u001b[38;5;132;01m:\u001b[39;00m\u001b[38;5;124m.3f\u001b[39m\u001b[38;5;132;01m}\u001b[39;00m\u001b[38;5;124m\"\u001b[39m)\n\u001b[1;32m     46\u001b[0m \u001b[38;5;28mprint\u001b[39m(\u001b[38;5;124mf\u001b[39m\u001b[38;5;124m\"\u001b[39m\u001b[38;5;124mAccuracy on task 1: \u001b[39m\u001b[38;5;132;01m{\u001b[39;00minitial_acc\u001b[38;5;132;01m:\u001b[39;00m\u001b[38;5;124m.3f\u001b[39m\u001b[38;5;132;01m}\u001b[39;00m\u001b[38;5;124m\"\u001b[39m)\n",
      "Cell \u001b[0;32mIn[16], line 62\u001b[0m, in \u001b[0;36mTrainer.evaluate\u001b[0;34m(self, model, test_loader)\u001b[0m\n\u001b[1;32m     60\u001b[0m batch \u001b[38;5;241m=\u001b[39m [b\u001b[38;5;241m.\u001b[39mto(\u001b[38;5;28mself\u001b[39m\u001b[38;5;241m.\u001b[39mdevice) \u001b[38;5;28;01mfor\u001b[39;00m b \u001b[38;5;129;01min\u001b[39;00m batch]\n\u001b[1;32m     61\u001b[0m x, y, t \u001b[38;5;241m=\u001b[39m batch\n\u001b[0;32m---> 62\u001b[0m logits \u001b[38;5;241m=\u001b[39m \u001b[38;5;28;43mself\u001b[39;49m\u001b[38;5;241;43m.\u001b[39;49m\u001b[43mmodel\u001b[49m\u001b[43m(\u001b[49m\u001b[43mx\u001b[49m\u001b[43m,\u001b[49m\u001b[43m \u001b[49m\u001b[43mt\u001b[49m\u001b[43m)\u001b[49m\n\u001b[1;32m     63\u001b[0m probs \u001b[38;5;241m=\u001b[39m torch\u001b[38;5;241m.\u001b[39msoftmax(logits, dim\u001b[38;5;241m=\u001b[39m\u001b[38;5;241m1\u001b[39m)\n\u001b[1;32m     64\u001b[0m err \u001b[38;5;241m=\u001b[39m (probs\u001b[38;5;241m.\u001b[39margmax(dim\u001b[38;5;241m=\u001b[39m\u001b[38;5;241m1\u001b[39m) \u001b[38;5;241m!=\u001b[39m y)\u001b[38;5;241m.\u001b[39mfloat()\n",
      "File \u001b[0;32m~/miniconda3/envs/prol/lib/python3.9/site-packages/torch/nn/modules/module.py:1518\u001b[0m, in \u001b[0;36mModule._wrapped_call_impl\u001b[0;34m(self, *args, **kwargs)\u001b[0m\n\u001b[1;32m   1516\u001b[0m     \u001b[38;5;28;01mreturn\u001b[39;00m \u001b[38;5;28mself\u001b[39m\u001b[38;5;241m.\u001b[39m_compiled_call_impl(\u001b[38;5;241m*\u001b[39margs, \u001b[38;5;241m*\u001b[39m\u001b[38;5;241m*\u001b[39mkwargs)  \u001b[38;5;66;03m# type: ignore[misc]\u001b[39;00m\n\u001b[1;32m   1517\u001b[0m \u001b[38;5;28;01melse\u001b[39;00m:\n\u001b[0;32m-> 1518\u001b[0m     \u001b[38;5;28;01mreturn\u001b[39;00m \u001b[38;5;28;43mself\u001b[39;49m\u001b[38;5;241;43m.\u001b[39;49m\u001b[43m_call_impl\u001b[49m\u001b[43m(\u001b[49m\u001b[38;5;241;43m*\u001b[39;49m\u001b[43margs\u001b[49m\u001b[43m,\u001b[49m\u001b[43m \u001b[49m\u001b[38;5;241;43m*\u001b[39;49m\u001b[38;5;241;43m*\u001b[39;49m\u001b[43mkwargs\u001b[49m\u001b[43m)\u001b[49m\n",
      "File \u001b[0;32m~/miniconda3/envs/prol/lib/python3.9/site-packages/torch/nn/modules/module.py:1527\u001b[0m, in \u001b[0;36mModule._call_impl\u001b[0;34m(self, *args, **kwargs)\u001b[0m\n\u001b[1;32m   1522\u001b[0m \u001b[38;5;66;03m# If we don't have any hooks, we want to skip the rest of the logic in\u001b[39;00m\n\u001b[1;32m   1523\u001b[0m \u001b[38;5;66;03m# this function, and just call forward.\u001b[39;00m\n\u001b[1;32m   1524\u001b[0m \u001b[38;5;28;01mif\u001b[39;00m \u001b[38;5;129;01mnot\u001b[39;00m (\u001b[38;5;28mself\u001b[39m\u001b[38;5;241m.\u001b[39m_backward_hooks \u001b[38;5;129;01mor\u001b[39;00m \u001b[38;5;28mself\u001b[39m\u001b[38;5;241m.\u001b[39m_backward_pre_hooks \u001b[38;5;129;01mor\u001b[39;00m \u001b[38;5;28mself\u001b[39m\u001b[38;5;241m.\u001b[39m_forward_hooks \u001b[38;5;129;01mor\u001b[39;00m \u001b[38;5;28mself\u001b[39m\u001b[38;5;241m.\u001b[39m_forward_pre_hooks\n\u001b[1;32m   1525\u001b[0m         \u001b[38;5;129;01mor\u001b[39;00m _global_backward_pre_hooks \u001b[38;5;129;01mor\u001b[39;00m _global_backward_hooks\n\u001b[1;32m   1526\u001b[0m         \u001b[38;5;129;01mor\u001b[39;00m _global_forward_hooks \u001b[38;5;129;01mor\u001b[39;00m _global_forward_pre_hooks):\n\u001b[0;32m-> 1527\u001b[0m     \u001b[38;5;28;01mreturn\u001b[39;00m \u001b[43mforward_call\u001b[49m\u001b[43m(\u001b[49m\u001b[38;5;241;43m*\u001b[39;49m\u001b[43margs\u001b[49m\u001b[43m,\u001b[49m\u001b[43m \u001b[49m\u001b[38;5;241;43m*\u001b[39;49m\u001b[38;5;241;43m*\u001b[39;49m\u001b[43mkwargs\u001b[49m\u001b[43m)\u001b[49m\n\u001b[1;32m   1529\u001b[0m \u001b[38;5;28;01mtry\u001b[39;00m:\n\u001b[1;32m   1530\u001b[0m     result \u001b[38;5;241m=\u001b[39m \u001b[38;5;28;01mNone\u001b[39;00m\n",
      "Cell \u001b[0;32mIn[15], line 32\u001b[0m, in \u001b[0;36mtaskMLP.forward\u001b[0;34m(self, x, t)\u001b[0m\n\u001b[1;32m     30\u001b[0m \u001b[38;5;28;01mdef\u001b[39;00m \u001b[38;5;21mforward\u001b[39m(\u001b[38;5;28mself\u001b[39m, x, t):\n\u001b[1;32m     31\u001b[0m     t \u001b[38;5;241m=\u001b[39m F\u001b[38;5;241m.\u001b[39mone_hot(t\u001b[38;5;241m.\u001b[39mlong(), \u001b[38;5;28mself\u001b[39m\u001b[38;5;241m.\u001b[39mtdim)\u001b[38;5;241m.\u001b[39msqueeze()\n\u001b[0;32m---> 32\u001b[0m     x \u001b[38;5;241m=\u001b[39m \u001b[43mtorch\u001b[49m\u001b[38;5;241;43m.\u001b[39;49m\u001b[43mcat\u001b[49m\u001b[43m(\u001b[49m\u001b[43m[\u001b[49m\u001b[43mx\u001b[49m\u001b[43m,\u001b[49m\u001b[43m \u001b[49m\u001b[43mt\u001b[49m\u001b[43m]\u001b[49m\u001b[43m,\u001b[49m\u001b[43m \u001b[49m\u001b[43mdim\u001b[49m\u001b[38;5;241;43m=\u001b[39;49m\u001b[38;5;241;43m-\u001b[39;49m\u001b[38;5;241;43m1\u001b[39;49m\u001b[43m)\u001b[49m\n\u001b[1;32m     33\u001b[0m     x \u001b[38;5;241m=\u001b[39m \u001b[38;5;28mself\u001b[39m\u001b[38;5;241m.\u001b[39mfc1(x)\n\u001b[1;32m     34\u001b[0m     x \u001b[38;5;241m=\u001b[39m \u001b[38;5;28mself\u001b[39m\u001b[38;5;241m.\u001b[39mrelu(x)\n",
      "\u001b[0;31mKeyboardInterrupt\u001b[0m: "
     ]
    }
   ],
   "source": [
    "T = 20\n",
    "num_epochs = 10\n",
    "\n",
    "tasks = [torch.randperm(28*28) for _ in range(T)]\n",
    "\n",
    "# device = torch.device(\"cuda\" if torch.cuda.is_available() else \"cpu\")\n",
    "device = torch.device(\"cpu\")\n",
    "\n",
    "methods = [\"taskMLP\"]\n",
    "\n",
    "current_task_acc = {method : [] for method in methods}\n",
    "initial_task_acc = {method : [] for method in methods}\n",
    "\n",
    "for method in methods:\n",
    "    if method == \"MLP\":\n",
    "        model = MLP()\n",
    "    elif method == \"taskMLP\":\n",
    "        model = taskMLP()\n",
    "    else:\n",
    "        raise NotImplementedError\n",
    "    model.to(device)\n",
    "\n",
    "    for t in range(T):\n",
    "        print(f\"Training on task {t}...\")\n",
    "\n",
    "        train_dataset = PermutedMNIST(tasks[t], (t+1),  train=True)\n",
    "        test_dataset = PermutedMNIST(tasks[t], (t+1), train=False)\n",
    "\n",
    "        trainloader, testloader = get_dataloader(train_dataset, test_dataset)\n",
    "\n",
    "        if t == 0:\n",
    "            initial_task_testloader = deepcopy(testloader)\n",
    "\n",
    "        optimizer = torch.optim.SGD(\n",
    "            model.parameters(), \n",
    "            lr=0.03\n",
    "        )\n",
    "\n",
    "        trainer = Trainer(model, trainloader, optimizer, device, verbose=True)\n",
    "        trainer.train(num_epochs=num_epochs)\n",
    "\n",
    "        curr_acc = trainer.evaluate(test_loader=initial_task_testloader)\n",
    "        initial_acc = trainer.evaluate(test_loader=testloader)\n",
    "\n",
    "        print(f\"Accuracy on task {t+1}: {curr_acc:.3f}\")\n",
    "        print(f\"Accuracy on task 1: {initial_acc:.3f}\")\n",
    "\n",
    "        current_task_acc[method].append(curr_acc)\n",
    "        initial_task_acc[method].append(initial_acc)\n"
   ]
  },
  {
   "cell_type": "code",
   "execution_count": 22,
   "metadata": {},
   "outputs": [
    {
     "data": {
      "image/png": "[encoded data removed]",
      "text/plain": [
       "<Figure size 1200x500 with 1 Axes>"
      ]
     },
     "metadata": {},
     "output_type": "display_data"
    }
   ],
   "source": [
    "fig, ax = plt.subplots(figsize=(12, 5))\n",
    "for method in methods:\n",
    "    ax.plot(np.arange(1, T+1), initial_task_acc[method], label=method)\n",
    "ax.set_xlabel(\"Task ID\")\n",
    "ax.set_ylabel(\"Accuracy on Task 1\")\n",
    "ax.set_ylim([0, 1])\n",
    "ax.set_xticks(np.arange(1, T+1))\n",
    "ax.legend()\n",
    "plt.show()"
   ]
  },
  {
   "cell_type": "code",
   "execution_count": null,
   "metadata": {},
   "outputs": [],
   "source": []
  }
 ],
 "metadata": {
  "kernelspec": {
   "display_name": "prol",
   "language": "python",
   "name": "python3"
  },
  "language_info": {
   "codemirror_mode": {
    "name": "ipython",
    "version": 3
   },
   "file_extension": ".py",
   "mimetype": "text/x-python",
   "name": "python",
   "nbconvert_exporter": "python",
   "pygments_lexer": "ipython3",
   "version": "3.9.18"
  }
 },
 "nbformat": 4,
 "nbformat_minor": 2
}
