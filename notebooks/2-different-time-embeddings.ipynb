{
 "cells": [
  {
   "cell_type": "code",
   "execution_count": 5,
   "id": "8b70162e",
   "metadata": {},
   "outputs": [],
   "source": [
    "import numpy as np\n",
    "import torch\n",
    "from torch.utils.data import DataLoader, Dataset, TensorDataset\n",
    "from dataclasses import dataclass\n",
    "import torch.nn as nn\n",
    "\n",
    "import matplotlib.pyplot as plt\n",
    "\n",
    "from tqdm import tqdm"
   ]
  },
  {
   "cell_type": "code",
   "execution_count": 6,
   "id": "4ac5ec5e",
   "metadata": {},
   "outputs": [],
   "source": [
    "@dataclass\n",
    "class ProcessConfig:\n",
    "    \"\"\"configure the data generating process\"\"\"\n",
    "    type: str = 'linear'\n",
    "    seq_len: int = 2000\n",
    "    num_seeds: int = 3 \n",
    "    num_samples_per_task: int = 100\n",
    "\n",
    "class DataGeneratingProcess:\n",
    "    \"\"\"data generating process\"\"\"\n",
    "    def __init__(self, cfg):\n",
    "        self.type = cfg.type\n",
    "        self.seq_len = cfg.seq_len\n",
    "        self.num_seeds = cfg.num_seeds\n",
    "        self.n = cfg.num_samples_per_task\n",
    "        \n",
    "    def generate_data(self):\n",
    "        \"\"\"generate data sequences over the specified number of seeds\"\"\"\n",
    "        xseq, yseq, taskseq = [], [], []\n",
    "        tseq = []\n",
    "        for _ in range(self.num_seeds):\n",
    "            dat = self.generate_sequence(np.random.randint(0, 1000))\n",
    "            xseq.append(dat[0])\n",
    "            yseq.append(dat[1])\n",
    "            taskseq.append(dat[2])\n",
    "            tseq.append(dat[2])\n",
    "            \n",
    "        xseq = np.array(xseq)\n",
    "        yseq = np.array(yseq)\n",
    "        tseq = np.array(tseq)\n",
    "        taskseq = np.array(taskseq)\n",
    "\n",
    "        self.data = {'x': xseq,\n",
    "                     'y': yseq,\n",
    "                     't': tseq,\n",
    "                     'task': taskseq}\n",
    "\n",
    "    def generate_sequence(self, seed):\n",
    "        \"\"\"generate a sequence of data\"\"\"\n",
    "        np.random.seed(seed)\n",
    "\n",
    "        data = []\n",
    "        for s in range(self.seq_len):\n",
    "            x, y, t = self.generate_at_time(s, self.n)\n",
    "            data.append([x, y, t])\n",
    "        data = np.concatenate(data, axis=-1)\n",
    "        Xdat = data[0, :].reshape(-1, 1)\n",
    "        Ydat = data[1, :].astype(int)\n",
    "        tind = data[2, :]\n",
    "        return Xdat, Ydat, tind\n",
    "    \n",
    "    def generate_at_time(self, t, num_samples, return_tensors=False):\n",
    "        \"\"\"generate a test sample of data (x, y) ~ p_t from the marginal \n",
    "        of the process at time t. This is used to evaluate the instantaneous\n",
    "        loss of the predictor\n",
    "        \"\"\"\n",
    "        m = 0.1\n",
    "        if self.type == 'linear':\n",
    "            trend = lambda t : m * t\n",
    "        elif self.type == 'quadratic':\n",
    "            trend = lambda t : m * t**2\n",
    "        else:\n",
    "            raise ValueError(f\"Unknown process type: {self.type}\")\n",
    "\n",
    "        x1 = np.random.uniform(trend(t)-11, trend(t)-10, num_samples // 2)\n",
    "        x2 = np.random.uniform(trend(t)+10, trend(t)+11, num_samples // 2)\n",
    "\n",
    "        x = np.concatenate((x1, x2))\n",
    "        y = np.concatenate((np.ones(num_samples // 2), np.zeros(num_samples // 2)))\n",
    "\n",
    "        ts = t * np.ones(num_samples)\n",
    "\n",
    "        if return_tensors:  \n",
    "            x = torch.from_numpy(x.reshape(-1, 1)).float()\n",
    "            y = torch.from_numpy(y.reshape(-1)).long()\n",
    "            t = torch.from_numpy(ts.reshape(-1)).float()\n",
    "            return x, y, t\n",
    "        else:\n",
    "            return x, y, ts\n",
    "    \n",
    "class SyntheticDataset(Dataset):\n",
    "    \"\"\"Form the torch dataset\"\"\"\n",
    "    def __init__(self, data, present, run_id, test):\n",
    "        x = torch.from_numpy(data['x'][run_id]).float()\n",
    "        y = torch.from_numpy(data['y'][run_id]).long()\n",
    "        t = torch.from_numpy(data['t'][run_id]).float()\n",
    "\n",
    "        train_idx = torch.where(t < present)\n",
    "        x_tr = x[train_idx]\n",
    "        y_tr = y[train_idx]\n",
    "        t_tr = t[train_idx]\n",
    "\n",
    "        test_idx = torch.where(t >= present)\n",
    "        x_te = x[test_idx]\n",
    "        y_te = y[test_idx]\n",
    "        t_te = t[test_idx]\n",
    "        \n",
    "        if test:\n",
    "            self.x = self.minimax_normalize(x_te, x_tr)\n",
    "            self.t = self.minimax_normalize(t_te, t_tr)\n",
    "            self.y = y_te\n",
    "        else:\n",
    "            self.x = self.minimax_normalize(x_tr, x_tr)\n",
    "            self.t = self.minimax_normalize(t_tr, t_tr)\n",
    "            self.y = y_tr\n",
    "\n",
    "    def minimax_normalize(self, a, a_tr):\n",
    "        tr_min, tr_max = a_tr.min(), a_tr.max()\n",
    "        return (a - tr_min)/(tr_max - tr_min)\n",
    "\n",
    "    def __len__(self):\n",
    "        return len(self.y)\n",
    "\n",
    "    def __getitem__(self, idx):\n",
    "        x = self.x[idx]\n",
    "        y = self.y[idx]\n",
    "        t = self.t[idx]\n",
    "        return x, y, t"
   ]
  },
  {
   "cell_type": "code",
   "execution_count": 7,
   "id": "a7f2a992",
   "metadata": {},
   "outputs": [],
   "source": [
    "class FourierEmbedding(nn.Module):\n",
    "    \"\"\"form the Fourier time-embedding\"\"\"\n",
    "    def __init__(self, tdim=50):\n",
    "        super(FourierEmbedding, self).__init__()\n",
    "        self.freqs = (2 * np.pi) / torch.arange(2, tdim + 1, 2).unsqueeze(0)\n",
    "\n",
    "    def forward(self, t):\n",
    "        t = t.unsqueeze(-1)\n",
    "        sin_emb = torch.sin(self.freqs.to(t.device) * t)\n",
    "        cos_emb = torch.cos(self.freqs.to(t.device) * t)\n",
    "        return torch.cat([sin_emb, cos_emb], dim=-1)\n",
    "    \n",
    "class PolynomialEmbedding(nn.Module):\n",
    "    \"\"\"form the polynomial time-embedding\"\"\"\n",
    "    def __init__(self, tdim=4):\n",
    "        super(PolynomialEmbedding, self).__init__()\n",
    "        self.tdim = tdim\n",
    "\n",
    "    def forward(self, t):\n",
    "        t = t.unsqueeze(-1)\n",
    "        return torch.cat([torch.pow(t, k) for k in range(1, self.tdim+1)], dim=-1).to(t.device)\n",
    "\n",
    "class MLP(nn.Module):\n",
    "    \"\"\"a simple MLP architecture for implementing both vanilla-MLP and\n",
    "    prospective-MLP\n",
    "    \"\"\"\n",
    "    def __init__(self, hidden_dim=[1, 32, 2], prospective=False, embedding_type='fourier', tdim=10):\n",
    "        super(MLP, self).__init__()\n",
    "        self.prospective = prospective\n",
    "        \n",
    "        if prospective:\n",
    "            if embedding_type == 'fourier':\n",
    "                self.embedding = FourierEmbedding(tdim)\n",
    "            elif embedding_type == 'polynomial':\n",
    "                self.embedding = PolynomialEmbedding(tdim)\n",
    "            else:\n",
    "                raise ValueError(f\"Unknown embedding type: {embedding_type}\")\n",
    "\n",
    "        self.layers = nn.ModuleList()\n",
    "        for i in range(len(hidden_dim)-1):\n",
    "            if prospective and i == 0:\n",
    "                self.layers.append(nn.Linear(hidden_dim[i] + tdim, hidden_dim[i+1]))\n",
    "            else:\n",
    "                self.layers.append(nn.Linear(hidden_dim[i], hidden_dim[i+1]))\n",
    "        self.relu = nn.ReLU()\n",
    "\n",
    "    def forward(self, x, t):\n",
    "        if self.prospective:\n",
    "            t = self.embedding(t)\n",
    "            x = torch.cat([x, t], dim=-1)\n",
    "        for i, layer in enumerate(self.layers):\n",
    "            x = layer(x)\n",
    "            if i < len(self.layers)-1:\n",
    "                x = self.relu(x)\n",
    "        return x"
   ]
  },
  {
   "cell_type": "code",
   "execution_count": 8,
   "id": "495064dd",
   "metadata": {},
   "outputs": [],
   "source": [
    "import random\n",
    "\n",
    "def set_seed(acorn):\n",
    "    \"\"\"set random seed\"\"\"\n",
    "    random.seed(acorn)\n",
    "    np.random.seed(acorn)\n",
    "    torch.manual_seed(acorn)\n",
    "    torch.cuda.manual_seed(acorn)\n",
    "    torch.cuda.manual_seed_all(acorn)\n",
    "\n",
    "def get_dataloaders(dp, t, seed):\n",
    "    \"\"\"obtain the dataloaders\"\"\"\n",
    "    train_dataset = SyntheticDataset(dp.data, t, seed, test=False)\n",
    "    test_dataset = SyntheticDataset(dp.data, t, seed, test=True)\n",
    "    ttest_dataset = TensorDataset(*dp.generate_at_time(t, 500, return_tensors=True))\n",
    "\n",
    "    if len(train_dataset) > 32:\n",
    "        bs = 32\n",
    "    else:\n",
    "        bs = 2\n",
    "\n",
    "    trainloader = DataLoader(\n",
    "        train_dataset,\n",
    "        batch_size=bs,\n",
    "        shuffle=True,\n",
    "        drop_last=True\n",
    "    )\n",
    "    testloader = DataLoader(\n",
    "        test_dataset, \n",
    "        batch_size=100,\n",
    "        shuffle=False\n",
    "    )\n",
    "    ttestloader = DataLoader(\n",
    "        ttest_dataset, \n",
    "        batch_size=100,\n",
    "        shuffle=False\n",
    "    )\n",
    "    return trainloader, testloader, ttestloader\n",
    "\n",
    "class Trainer:\n",
    "    \"\"\"trainer class for the models\"\"\"\n",
    "    def __init__(self, model, train_loader, test_loader, ttest_loader, criterion, optimizer, device, verbose=False):\n",
    "        self.model = model\n",
    "        self.train_loader = train_loader\n",
    "        self.test_loader = test_loader\n",
    "        self.ttest_loader = ttest_loader\n",
    "        self.criterion = criterion\n",
    "        self.optimizer = optimizer\n",
    "        self.device = device\n",
    "        self.verbose = verbose\n",
    "\n",
    "    def train_one_epoch(self):\n",
    "        self.model.train()\n",
    "        total_loss = 0.0\n",
    "        \n",
    "        for batch in self.train_loader:\n",
    "            batch = [b.to(self.device) for b in batch]\n",
    "            x, y, t = batch\n",
    "            outputs = self.model(x, t)\n",
    "\n",
    "            loss = self.criterion(outputs.squeeze(), y)\n",
    "\n",
    "            self.optimizer.zero_grad()  \n",
    "            loss.backward()            \n",
    "            self.optimizer.step() \n",
    "\n",
    "            total_loss += loss.clone().detach().item()\n",
    "\n",
    "        return total_loss / len(self.train_loader)\n",
    "\n",
    "    def evaluate(self, model=None):\n",
    "        if model is not None:\n",
    "            self.model = model\n",
    "        self.model.eval()\n",
    "        perrs = []\n",
    "        with torch.no_grad():\n",
    "            for batch in self.test_loader:\n",
    "                batch = [b.to(self.device) for b in batch]\n",
    "                x, y, t = batch\n",
    "                logits = self.model(x, t)\n",
    "                probs = torch.softmax(logits, dim=1)\n",
    "                err = (probs.argmax(dim=1) != y).float()\n",
    "                perrs.append(err.detach().cpu().numpy())\n",
    "        perrs = np.concatenate(perrs)\n",
    "        times = self.test_loader.dataset.t.numpy()\n",
    "        ploss = np.mean([np.mean(perrs[times == i]) for i in np.unique(times)])\n",
    "\n",
    "        errs = []\n",
    "        with torch.no_grad():\n",
    "            for batch in self.ttest_loader:\n",
    "                batch = [b.to(self.device) for b in batch]\n",
    "                x, y, t = batch\n",
    "                logits = self.model(x, t)\n",
    "                probs = torch.softmax(logits, dim=1)\n",
    "                err = (probs.argmax(dim=1) != y).float()\n",
    "                errs.append(err.cpu().numpy())\n",
    "        iloss = np.concatenate(errs).mean()\n",
    "        \n",
    "        return ploss, iloss\n",
    "\n",
    "    def train(self, num_epochs):\n",
    "        progress_bar = tqdm(range(num_epochs), desc=\"Training\", unit=\"epoch\")\n",
    "        for epoch in progress_bar:\n",
    "            train_loss = self.train_one_epoch()\n",
    "            if self.verbose:\n",
    "                progress_bar.set_description(f\"Epoch [{epoch + 1}/{num_epochs}] - Loss: {train_loss:.4f}\")"
   ]
  },
  {
   "cell_type": "code",
   "execution_count": null,
   "id": "60044b8b",
   "metadata": {},
   "outputs": [],
   "source": [
    "# data generating args\n",
    "seq_len = 1500\n",
    "num_seeds = 1\n",
    "num_samples_per_task = 20\n",
    "type = 'linear'\n",
    "\n",
    "# model args\n",
    "hidden_dim = [1, 8, 8, 2]\n",
    "embedding_type = 'polynomial'\n",
    "tdim = 4\n",
    "\n",
    "# training args\n",
    "num_epochs = 50\n",
    "lr = 0.01\n",
    "criterion = nn.CrossEntropyLoss()"
   ]
  },
  {
   "cell_type": "code",
   "execution_count": 18,
   "id": "cfdf094b",
   "metadata": {},
   "outputs": [],
   "source": [
    "cfg = ProcessConfig(\n",
    "    seq_len=seq_len,\n",
    "    num_seeds=num_seeds,\n",
    "    num_samples_per_task=num_samples_per_task,\n",
    "    type=type\n",
    ")\n",
    "dp = DataGeneratingProcess(cfg)\n",
    "dp.generate_data()"
   ]
  },
  {
   "cell_type": "code",
   "execution_count": 19,
   "id": "8e2a4e32",
   "metadata": {},
   "outputs": [
    {
     "name": "stdout",
     "output_type": "stream",
     "text": [
      "Method: {'name': 'FTL', 'is_prospective': False, 'embedding_type': 'None', 'tdim': 0}\n",
      "seed = 0\n",
      "time t = 50\n"
     ]
    },
    {
     "name": "stderr",
     "output_type": "stream",
     "text": [
      "Epoch [50/50] - Loss: 0.0004: 100%|██████████| 50/50 [00:00<00:00, 53.70epoch/s]\n"
     ]
    },
    {
     "name": "stdout",
     "output_type": "stream",
     "text": [
      "instant loss: 0.0000, prospective loss: 0.4584\n",
      "time t = 100\n"
     ]
    },
    {
     "name": "stderr",
     "output_type": "stream",
     "text": [
      "Epoch [50/50] - Loss: 0.0003: 100%|██████████| 50/50 [00:01<00:00, 27.33epoch/s]\n"
     ]
    },
    {
     "name": "stdout",
     "output_type": "stream",
     "text": [
      "instant loss: 0.0000, prospective loss: 0.4695\n",
      "time t = 150\n"
     ]
    },
    {
     "name": "stderr",
     "output_type": "stream",
     "text": [
      "Epoch [50/50] - Loss: 0.0004: 100%|██████████| 50/50 [00:02<00:00, 18.12epoch/s]\n"
     ]
    },
    {
     "name": "stdout",
     "output_type": "stream",
     "text": [
      "instant loss: 0.5000, prospective loss: 0.4826\n",
      "time t = 200\n"
     ]
    },
    {
     "name": "stderr",
     "output_type": "stream",
     "text": [
      "Epoch [50/50] - Loss: 0.0046: 100%|██████████| 50/50 [00:03<00:00, 14.62epoch/s]\n"
     ]
    },
    {
     "name": "stdout",
     "output_type": "stream",
     "text": [
      "instant loss: 0.5000, prospective loss: 0.4984\n",
      "time t = 250\n"
     ]
    },
    {
     "name": "stderr",
     "output_type": "stream",
     "text": [
      "Epoch [50/50] - Loss: 0.1419: 100%|██████████| 50/50 [00:04<00:00, 11.85epoch/s]\n"
     ]
    },
    {
     "name": "stdout",
     "output_type": "stream",
     "text": [
      "instant loss: 0.5000, prospective loss: 0.5000\n",
      "time t = 300\n"
     ]
    },
    {
     "name": "stderr",
     "output_type": "stream",
     "text": [
      "Epoch [50/50] - Loss: 0.2602: 100%|██████████| 50/50 [00:05<00:00,  9.84epoch/s]\n"
     ]
    },
    {
     "name": "stdout",
     "output_type": "stream",
     "text": [
      "instant loss: 0.5000, prospective loss: 0.5000\n",
      "time t = 350\n"
     ]
    },
    {
     "name": "stderr",
     "output_type": "stream",
     "text": [
      "Epoch [50/50] - Loss: 0.3036: 100%|██████████| 50/50 [00:05<00:00,  8.50epoch/s]\n"
     ]
    },
    {
     "name": "stdout",
     "output_type": "stream",
     "text": [
      "instant loss: 0.5000, prospective loss: 0.5000\n",
      "time t = 400\n"
     ]
    },
    {
     "name": "stderr",
     "output_type": "stream",
     "text": [
      "Epoch [50/50] - Loss: 0.3921: 100%|██████████| 50/50 [00:06<00:00,  7.42epoch/s]\n"
     ]
    },
    {
     "name": "stdout",
     "output_type": "stream",
     "text": [
      "instant loss: 0.5000, prospective loss: 0.5000\n",
      "time t = 450\n"
     ]
    },
    {
     "name": "stderr",
     "output_type": "stream",
     "text": [
      "Epoch [50/50] - Loss: 0.4546: 100%|██████████| 50/50 [00:07<00:00,  6.63epoch/s]\n"
     ]
    },
    {
     "name": "stdout",
     "output_type": "stream",
     "text": [
      "instant loss: 0.5000, prospective loss: 0.5000\n",
      "time t = 500\n"
     ]
    },
    {
     "name": "stderr",
     "output_type": "stream",
     "text": [
      "Epoch [50/50] - Loss: 0.4920: 100%|██████████| 50/50 [00:08<00:00,  5.68epoch/s]\n"
     ]
    },
    {
     "name": "stdout",
     "output_type": "stream",
     "text": [
      "instant loss: 0.5000, prospective loss: 0.5000\n",
      "time t = 550\n"
     ]
    },
    {
     "name": "stderr",
     "output_type": "stream",
     "text": [
      "Epoch [50/50] - Loss: 0.4955: 100%|██████████| 50/50 [00:09<00:00,  5.41epoch/s]\n"
     ]
    },
    {
     "name": "stdout",
     "output_type": "stream",
     "text": [
      "instant loss: 0.5000, prospective loss: 0.5000\n",
      "time t = 600\n"
     ]
    },
    {
     "name": "stderr",
     "output_type": "stream",
     "text": [
      "Epoch [50/50] - Loss: 0.5041: 100%|██████████| 50/50 [00:10<00:00,  4.97epoch/s]\n"
     ]
    },
    {
     "name": "stdout",
     "output_type": "stream",
     "text": [
      "instant loss: 0.5000, prospective loss: 0.5000\n",
      "time t = 650\n"
     ]
    },
    {
     "name": "stderr",
     "output_type": "stream",
     "text": [
      "Epoch [50/50] - Loss: 0.5349: 100%|██████████| 50/50 [00:10<00:00,  4.62epoch/s]\n"
     ]
    },
    {
     "name": "stdout",
     "output_type": "stream",
     "text": [
      "instant loss: 0.5000, prospective loss: 0.5000\n",
      "time t = 700\n"
     ]
    },
    {
     "name": "stderr",
     "output_type": "stream",
     "text": [
      "Epoch [50/50] - Loss: 0.4991: 100%|██████████| 50/50 [00:11<00:00,  4.30epoch/s]\n"
     ]
    },
    {
     "name": "stdout",
     "output_type": "stream",
     "text": [
      "instant loss: 0.5000, prospective loss: 0.5000\n",
      "time t = 750\n"
     ]
    },
    {
     "name": "stderr",
     "output_type": "stream",
     "text": [
      "Epoch [50/50] - Loss: 0.5297: 100%|██████████| 50/50 [00:12<00:00,  3.93epoch/s]\n"
     ]
    },
    {
     "name": "stdout",
     "output_type": "stream",
     "text": [
      "instant loss: 0.5000, prospective loss: 0.5000\n",
      "Method: {'name': 'P-MLP (fourier)', 'is_prospective': True, 'embedding_type': 'fourier', 'tdim': 50}\n",
      "seed = 0\n",
      "time t = 50\n"
     ]
    },
    {
     "name": "stderr",
     "output_type": "stream",
     "text": [
      "Epoch [50/50] - Loss: 0.0006: 100%|██████████| 50/50 [00:00<00:00, 53.17epoch/s]\n"
     ]
    },
    {
     "name": "stdout",
     "output_type": "stream",
     "text": [
      "instant loss: 0.0000, prospective loss: 0.4771\n",
      "time t = 100\n"
     ]
    },
    {
     "name": "stderr",
     "output_type": "stream",
     "text": [
      "Epoch [50/50] - Loss: 0.0001: 100%|██████████| 50/50 [00:02<00:00, 24.67epoch/s]\n"
     ]
    },
    {
     "name": "stdout",
     "output_type": "stream",
     "text": [
      "instant loss: 0.0520, prospective loss: 0.4511\n",
      "time t = 150\n"
     ]
    },
    {
     "name": "stderr",
     "output_type": "stream",
     "text": [
      "Epoch [50/50] - Loss: 0.0001: 100%|██████████| 50/50 [00:03<00:00, 16.59epoch/s]\n"
     ]
    },
    {
     "name": "stdout",
     "output_type": "stream",
     "text": [
      "instant loss: 0.5000, prospective loss: 0.4515\n",
      "time t = 200\n"
     ]
    },
    {
     "name": "stderr",
     "output_type": "stream",
     "text": [
      "Epoch [50/50] - Loss: 0.0001: 100%|██████████| 50/50 [00:04<00:00, 12.42epoch/s]\n"
     ]
    },
    {
     "name": "stdout",
     "output_type": "stream",
     "text": [
      "instant loss: 0.5000, prospective loss: 0.4234\n",
      "time t = 250\n"
     ]
    },
    {
     "name": "stderr",
     "output_type": "stream",
     "text": [
      "Epoch [50/50] - Loss: 0.0001: 100%|██████████| 50/50 [00:04<00:00, 10.68epoch/s]\n"
     ]
    },
    {
     "name": "stdout",
     "output_type": "stream",
     "text": [
      "instant loss: 0.5000, prospective loss: 0.4415\n",
      "time t = 300\n"
     ]
    },
    {
     "name": "stderr",
     "output_type": "stream",
     "text": [
      "Epoch [50/50] - Loss: 0.0001: 100%|██████████| 50/50 [00:05<00:00,  9.04epoch/s]\n"
     ]
    },
    {
     "name": "stdout",
     "output_type": "stream",
     "text": [
      "instant loss: 0.5000, prospective loss: 0.4140\n",
      "time t = 350\n"
     ]
    },
    {
     "name": "stderr",
     "output_type": "stream",
     "text": [
      "Epoch [50/50] - Loss: 0.0001: 100%|██████████| 50/50 [00:06<00:00,  7.58epoch/s]\n"
     ]
    },
    {
     "name": "stdout",
     "output_type": "stream",
     "text": [
      "instant loss: 0.5000, prospective loss: 0.4198\n",
      "time t = 400\n"
     ]
    },
    {
     "name": "stderr",
     "output_type": "stream",
     "text": [
      "Epoch [50/50] - Loss: 0.0006: 100%|██████████| 50/50 [00:07<00:00,  6.87epoch/s]\n"
     ]
    },
    {
     "name": "stdout",
     "output_type": "stream",
     "text": [
      "instant loss: 0.5000, prospective loss: 0.3676\n",
      "time t = 450\n"
     ]
    },
    {
     "name": "stderr",
     "output_type": "stream",
     "text": [
      "Epoch [50/50] - Loss: 0.0000: 100%|██████████| 50/50 [00:08<00:00,  6.06epoch/s]\n"
     ]
    },
    {
     "name": "stdout",
     "output_type": "stream",
     "text": [
      "instant loss: 0.5000, prospective loss: 0.3855\n",
      "time t = 500\n"
     ]
    },
    {
     "name": "stderr",
     "output_type": "stream",
     "text": [
      "Epoch [50/50] - Loss: 0.0000: 100%|██████████| 50/50 [00:08<00:00,  5.60epoch/s]\n"
     ]
    },
    {
     "name": "stdout",
     "output_type": "stream",
     "text": [
      "instant loss: 0.5000, prospective loss: 0.3658\n",
      "time t = 550\n"
     ]
    },
    {
     "name": "stderr",
     "output_type": "stream",
     "text": [
      "Epoch [50/50] - Loss: 0.0000: 100%|██████████| 50/50 [00:09<00:00,  5.13epoch/s]\n"
     ]
    },
    {
     "name": "stdout",
     "output_type": "stream",
     "text": [
      "instant loss: 0.5000, prospective loss: 0.3352\n",
      "time t = 600\n"
     ]
    },
    {
     "name": "stderr",
     "output_type": "stream",
     "text": [
      "Epoch [50/50] - Loss: 0.0000: 100%|██████████| 50/50 [00:11<00:00,  4.41epoch/s]\n"
     ]
    },
    {
     "name": "stdout",
     "output_type": "stream",
     "text": [
      "instant loss: 0.5000, prospective loss: 0.3274\n",
      "time t = 650\n"
     ]
    },
    {
     "name": "stderr",
     "output_type": "stream",
     "text": [
      "Epoch [50/50] - Loss: 0.0000: 100%|██████████| 50/50 [00:12<00:00,  4.04epoch/s]\n"
     ]
    },
    {
     "name": "stdout",
     "output_type": "stream",
     "text": [
      "instant loss: 0.5000, prospective loss: 0.2816\n",
      "time t = 700\n"
     ]
    },
    {
     "name": "stderr",
     "output_type": "stream",
     "text": [
      "Epoch [50/50] - Loss: 0.0000: 100%|██████████| 50/50 [00:12<00:00,  3.94epoch/s]\n"
     ]
    },
    {
     "name": "stdout",
     "output_type": "stream",
     "text": [
      "instant loss: 0.5000, prospective loss: 0.2233\n",
      "time t = 750\n"
     ]
    },
    {
     "name": "stderr",
     "output_type": "stream",
     "text": [
      "Epoch [50/50] - Loss: 0.0000: 100%|██████████| 50/50 [00:13<00:00,  3.71epoch/s]\n"
     ]
    },
    {
     "name": "stdout",
     "output_type": "stream",
     "text": [
      "instant loss: 0.5000, prospective loss: 0.1644\n",
      "Method: {'name': 'P-MLP (polynomial)', 'is_prospective': True, 'embedding_type': 'polynomial', 'tdim': 4}\n",
      "seed = 0\n",
      "time t = 50\n"
     ]
    },
    {
     "name": "stderr",
     "output_type": "stream",
     "text": [
      "Epoch [50/50] - Loss: 0.0004: 100%|██████████| 50/50 [00:00<00:00, 52.71epoch/s]\n"
     ]
    },
    {
     "name": "stdout",
     "output_type": "stream",
     "text": [
      "instant loss: 0.5000, prospective loss: 0.4757\n",
      "time t = 100\n"
     ]
    },
    {
     "name": "stderr",
     "output_type": "stream",
     "text": [
      "Epoch [50/50] - Loss: 0.0002: 100%|██████████| 50/50 [00:01<00:00, 27.14epoch/s]\n"
     ]
    },
    {
     "name": "stdout",
     "output_type": "stream",
     "text": [
      "instant loss: 0.5000, prospective loss: 0.4533\n",
      "time t = 150\n"
     ]
    },
    {
     "name": "stderr",
     "output_type": "stream",
     "text": [
      "Epoch [50/50] - Loss: 0.0001: 100%|██████████| 50/50 [00:02<00:00, 19.10epoch/s]\n"
     ]
    },
    {
     "name": "stdout",
     "output_type": "stream",
     "text": [
      "instant loss: 0.5000, prospective loss: 0.4334\n",
      "time t = 200\n"
     ]
    },
    {
     "name": "stderr",
     "output_type": "stream",
     "text": [
      "Epoch [50/50] - Loss: 0.0001: 100%|██████████| 50/50 [00:03<00:00, 14.26epoch/s]\n"
     ]
    },
    {
     "name": "stdout",
     "output_type": "stream",
     "text": [
      "instant loss: 0.5000, prospective loss: 0.4379\n",
      "time t = 250\n"
     ]
    },
    {
     "name": "stderr",
     "output_type": "stream",
     "text": [
      "Epoch [50/50] - Loss: 0.0001: 100%|██████████| 50/50 [00:04<00:00, 11.29epoch/s]\n"
     ]
    },
    {
     "name": "stdout",
     "output_type": "stream",
     "text": [
      "instant loss: 0.5000, prospective loss: 0.3913\n",
      "time t = 300\n"
     ]
    },
    {
     "name": "stderr",
     "output_type": "stream",
     "text": [
      "Epoch [50/50] - Loss: 0.0001: 100%|██████████| 50/50 [00:05<00:00,  9.41epoch/s]\n"
     ]
    },
    {
     "name": "stdout",
     "output_type": "stream",
     "text": [
      "instant loss: 0.5000, prospective loss: 0.4455\n",
      "time t = 350\n"
     ]
    },
    {
     "name": "stderr",
     "output_type": "stream",
     "text": [
      "Epoch [50/50] - Loss: 0.0001: 100%|██████████| 50/50 [00:06<00:00,  8.10epoch/s]\n"
     ]
    },
    {
     "name": "stdout",
     "output_type": "stream",
     "text": [
      "instant loss: 0.5000, prospective loss: 0.4088\n",
      "time t = 400\n"
     ]
    },
    {
     "name": "stderr",
     "output_type": "stream",
     "text": [
      "Epoch [50/50] - Loss: 0.0001: 100%|██████████| 50/50 [00:07<00:00,  6.94epoch/s]\n"
     ]
    },
    {
     "name": "stdout",
     "output_type": "stream",
     "text": [
      "instant loss: 0.5000, prospective loss: 0.3588\n",
      "time t = 450\n"
     ]
    },
    {
     "name": "stderr",
     "output_type": "stream",
     "text": [
      "Epoch [50/50] - Loss: 0.0001: 100%|██████████| 50/50 [00:08<00:00,  6.24epoch/s]\n"
     ]
    },
    {
     "name": "stdout",
     "output_type": "stream",
     "text": [
      "instant loss: 0.5000, prospective loss: 0.3223\n",
      "time t = 500\n"
     ]
    },
    {
     "name": "stderr",
     "output_type": "stream",
     "text": [
      "Epoch [50/50] - Loss: 0.0001: 100%|██████████| 50/50 [00:08<00:00,  5.66epoch/s]\n"
     ]
    },
    {
     "name": "stdout",
     "output_type": "stream",
     "text": [
      "instant loss: 0.5000, prospective loss: 0.2425\n",
      "time t = 550\n"
     ]
    },
    {
     "name": "stderr",
     "output_type": "stream",
     "text": [
      "Epoch [50/50] - Loss: 0.0001: 100%|██████████| 50/50 [00:09<00:00,  5.21epoch/s]\n"
     ]
    },
    {
     "name": "stdout",
     "output_type": "stream",
     "text": [
      "instant loss: 0.5000, prospective loss: 0.1118\n",
      "time t = 600\n"
     ]
    },
    {
     "name": "stderr",
     "output_type": "stream",
     "text": [
      "Epoch [50/50] - Loss: 0.0001: 100%|██████████| 50/50 [00:10<00:00,  4.76epoch/s]\n"
     ]
    },
    {
     "name": "stdout",
     "output_type": "stream",
     "text": [
      "instant loss: 0.5000, prospective loss: 0.2417\n",
      "time t = 650\n"
     ]
    },
    {
     "name": "stderr",
     "output_type": "stream",
     "text": [
      "Epoch [50/50] - Loss: 0.0001: 100%|██████████| 50/50 [00:11<00:00,  4.43epoch/s]\n"
     ]
    },
    {
     "name": "stdout",
     "output_type": "stream",
     "text": [
      "instant loss: 0.5000, prospective loss: 0.1573\n",
      "time t = 700\n"
     ]
    },
    {
     "name": "stderr",
     "output_type": "stream",
     "text": [
      "Epoch [50/50] - Loss: 0.0001: 100%|██████████| 50/50 [00:12<00:00,  4.13epoch/s]\n"
     ]
    },
    {
     "name": "stdout",
     "output_type": "stream",
     "text": [
      "instant loss: 0.5000, prospective loss: 0.1815\n",
      "time t = 750\n"
     ]
    },
    {
     "name": "stderr",
     "output_type": "stream",
     "text": [
      "Epoch [50/50] - Loss: 0.0001: 100%|██████████| 50/50 [00:13<00:00,  3.83epoch/s]"
     ]
    },
    {
     "name": "stdout",
     "output_type": "stream",
     "text": [
      "instant loss: 0.5000, prospective loss: 0.0036\n"
     ]
    },
    {
     "name": "stderr",
     "output_type": "stream",
     "text": [
      "\n"
     ]
    }
   ],
   "source": [
    "# device\n",
    "device = torch.device(\"cuda\" if torch.cuda.is_available() else \"cpu\")\n",
    "\n",
    "# learners being considered\n",
    "# methods = [\"FTL\", \"Prospective\"]\n",
    "# methods = [\"Prospective\"]\n",
    "methods = [\n",
    "    {\"name\": \"FTL\", \"is_prospective\" : False, \"embedding_type\" : \"None\", \"tdim\" : 0},\n",
    "    {\"name\": \"P-MLP (fourier)\", \"is_prospective\" : True, \"embedding_type\" : \"fourier\", \"tdim\" : 50},\n",
    "    {\"name\": \"P-MLP (polynomial)\", \"is_prospective\" : True, \"embedding_type\" : \"polynomial\", \"tdim\" : 4},\n",
    "]\n",
    "\n",
    "t_list = np.arange(50, 800, 50) # list of time steps \n",
    "\n",
    "instant_risk = {} # store instant risk for each algorithm\n",
    "prospective_risk = {} # store prospective risk for each algorithm\n",
    "\n",
    "for method in methods:\n",
    "    print(f\"Method: {method}\")\n",
    "    instant_losses = []\n",
    "    prospective_losses = []\n",
    "    for seed in range(cfg.num_seeds):\n",
    "        print(f\"seed = {seed}\")\n",
    "        acorn = seed * 1000 + 1996\n",
    "        set_seed(acorn)\n",
    "\n",
    "        iloss_list = []\n",
    "        ploss_list = []\n",
    "        \n",
    "        for t in t_list:\n",
    "            print(f\"time t = {t}\")\n",
    "\n",
    "            trainloader, testloader, ttestloader = get_dataloaders(dp, t, seed)\n",
    "        \n",
    "            model = MLP(\n",
    "                hidden_dim=hidden_dim,\n",
    "                prospective=method[\"is_prospective\"], \n",
    "                embedding_type=method[\"embedding_type\"],\n",
    "                tdim=method[\"tdim\"]\n",
    "            )\n",
    "            model.to(device)\n",
    "\n",
    "            optimizer = torch.optim.SGD(\n",
    "                model.parameters(), \n",
    "                lr=lr,\n",
    "                momentum=0.9, \n",
    "                nesterov=True,\n",
    "                weight_decay=0.00001\n",
    "            )\n",
    "\n",
    "            trainer = Trainer(model, trainloader, testloader, ttestloader, criterion, optimizer, device, verbose=True)\n",
    "\n",
    "            if t > 2:\n",
    "                trainer.train(num_epochs=num_epochs)\n",
    "                \n",
    "            ploss, iloss = trainer.evaluate()\n",
    "            iloss_list.append(iloss)\n",
    "            ploss_list.append(ploss)\n",
    "            print(f\"instant loss: {iloss:.4f}, prospective loss: {ploss:.4f}\")\n",
    "\n",
    "        instant_losses.append(iloss_list)\n",
    "        prospective_losses.append(ploss_list)\n",
    "\n",
    "    instant_risk[method[\"name\"]] = np.stack(instant_losses).mean(axis=0)\n",
    "    prospective_risk[method[\"name\"]] = np.stack(prospective_losses).mean(axis=0)"
   ]
  },
  {
   "cell_type": "code",
   "execution_count": null,
   "id": "62828245",
   "metadata": {},
   "outputs": [],
   "source": [
    "# # save the results\n",
    "# import pickle\n",
    "# with open(f\"embedding_results_{type}.pkl\", \"wb\") as f:\n",
    "#     pickle.dump({\n",
    "#         \"instant_risk\": instant_risk,\n",
    "#         \"prospective_risk\": prospective_risk,\n",
    "#         \"t_list\": t_list\n",
    "#     }, f)"
   ]
  },
  {
   "cell_type": "code",
   "execution_count": 20,
   "id": "af751c4b",
   "metadata": {},
   "outputs": [
    {
     "data": {
      "image/png": "[encoded data removed]",
      "text/plain": [
       "<Figure size 1400x700 with 2 Axes>"
      ]
     },
     "metadata": {},
     "output_type": "display_data"
    }
   ],
   "source": [
    "fig, axes = plt.subplots(2, 1, figsize=(14, 7), sharex=True)\n",
    "colors = ['#377eb8', '#e41a1c', '#4daf4a', '#984ea3']\n",
    "\n",
    "fontsize = 20\n",
    "lw = 2.5\n",
    "\n",
    "colors = ['#6baed6', '#4daf4a', '#fb6a4a']\n",
    "for i, method in enumerate(methods):\n",
    "    ax = axes[0]\n",
    "    ax.plot(t_list, instant_risk[method[\"name\"]], color=colors[i], lw=lw, label=method[\"name\"])\n",
    "    ax.set_yticks([0, 0.5, 1])\n",
    "    ax.set_ylim([-0.05, 1.05])\n",
    "    ax.set_xlim([t_list[0], t_list[-1]])\n",
    "\n",
    "    ax = axes[1]\n",
    "    ax.plot(t_list, prospective_risk[method[\"name\"]], color=colors[i], lw=lw)\n",
    "    ax.set_yticks([0, 0.5, 1])\n",
    "    ax.set_ylim([-0.05, 1.05])\n",
    "    ax.set_xlim([t_list[0], t_list[-1]])\n",
    "\n",
    "# switch_times = np.arange(0, t_list[-1]+2, period//2)\n",
    "# for i in range(0, len(switch_times)-1, 2):\n",
    "#     for j in range(0, 2):\n",
    "#         ax = axes[j]\n",
    "#         ax.fill_betweenx([-0.1, 1.1], switch_times[i], switch_times[i+1], color='lightgray', alpha=0.2)\n",
    "        \n",
    "# for j in range(0, 2):\n",
    "#     ax = axes[j]\n",
    "#     ax.plot(t_list, np.zeros_like(t_list), lw=lw, ls='dashed', color='k', label=\"Bayes Risk\")\n",
    "\n",
    "# for j in range(0, 2):\n",
    "#     ax = axes[j]\n",
    "#     ax.plot(t_list, 0.5*np.ones_like(t_list), lw=lw, ls='dashed', color='#238b45', label=\"Bayes Risk\")\n",
    "\n",
    "\n",
    "axes[0].grid(visible=False)\n",
    "axes[1].grid(visible=False)\n",
    "\n",
    "# legend_elements = [\n",
    "#     Line2D([0], [0], color='k', lw=4, ls='dashed', label='Bayes Risk'),\n",
    "#     Line2D([0], [0], color='#238b45', lw=4, ls='dashed', label='Chance Risk'),\n",
    "#     Line2D([0], [0], color='#6baed6', lw=4, label='FTL (homogeneous) '),\n",
    "#     Line2D([0], [0], color='#fb6a4a', lw=4, label='P-MLP (homogeneous)'),\n",
    "#     Line2D([0], [0], color='#377eb8', lw=4, label='FTL (heterogeneous)'),\n",
    "#     Line2D([0], [0], color='#e41a1c', lw=4, label='P-MLP (heterogeneous)'),\n",
    "# ]\n",
    "\n",
    "# ax = axes[0]\n",
    "# ax.legend(\n",
    "#     handles=legend_elements, \n",
    "#     frameon=False, \n",
    "#     loc='upper left', \n",
    "#     bbox_to_anchor=(1, 0.55),\n",
    "#     fontsize=fontsize   \n",
    "# )\n",
    "\n",
    "axes[0].set_ylabel(\"Instantaneous \\n Risk\", fontsize=fontsize)\n",
    "axes[1].set_ylabel(\"Prospective \\n Risk\", fontsize=fontsize)\n",
    "axes[1].set_xlabel(\"Time (t)\", fontsize=fontsize)\n",
    "\n",
    "axes[0].tick_params(axis='both', labelsize=fontsize)\n",
    "axes[1].tick_params(axis='both', labelsize=fontsize)\n",
    "\n",
    "axes[0].legend()\n",
    "\n",
    "# plt.savefig(f\"figures/1_effect_of_data_sparsity.pdf\", bbox_inches='tight')\n",
    "plt.show()"
   ]
  },
  {
   "cell_type": "code",
   "execution_count": null,
   "id": "92606792",
   "metadata": {},
   "outputs": [],
   "source": []
  },
  {
   "cell_type": "code",
   "execution_count": null,
   "id": "8159dc11",
   "metadata": {},
   "outputs": [
    {
     "data": {
      "image/png": "[encoded data removed]",
      "text/plain": [
       "<Figure size 640x480 with 1 Axes>"
      ]
     },
     "metadata": {},
     "output_type": "display_data"
    }
   ],
   "source": [
    "x, y, t = dp.generate_sequence(1996)\n",
    "\n",
    "for i in range(1, 10):\n",
    "    indices = (t == i)\n",
    "    xi = x[indices]\n",
    "    ti = t[indices]\n",
    "    yi = y[indices]\n",
    "    plt.scatter(ti[yi == 0], xi[yi == 0], color='red')\n",
    "    plt.scatter(ti[yi == 1], xi[yi == 1], color='blue')\n",
    "plt.xlabel(\"Time\")\n",
    "plt.ylabel(\"x\")\n",
    "plt.show()"
   ]
  },
  {
   "cell_type": "code",
   "execution_count": null,
   "id": "7fe10ce8",
   "metadata": {},
   "outputs": [],
   "source": []
  }
 ],
 "metadata": {
  "kernelspec": {
   "display_name": ".venv",
   "language": "python",
   "name": "python3"
  },
  "language_info": {
   "codemirror_mode": {
    "name": "ipython",
    "version": 3
   },
   "file_extension": ".py",
   "mimetype": "text/x-python",
   "name": "python",
   "nbconvert_exporter": "python",
   "pygments_lexer": "ipython3",
   "version": "3.11.11"
  }
 },
 "nbformat": 4,
 "nbformat_minor": 5
}
