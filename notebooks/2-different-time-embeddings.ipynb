{
 "cells": [
  {
   "cell_type": "code",
   "execution_count": 20,
   "id": "8b70162e",
   "metadata": {},
   "outputs": [],
   "source": [
    "import numpy as np\n",
    "import torch\n",
    "from torch.utils.data import DataLoader, Dataset, TensorDataset\n",
    "from dataclasses import dataclass\n",
    "import torch.nn as nn\n",
    "\n",
    "import matplotlib.pyplot as plt\n",
    "\n",
    "from tqdm import tqdm"
   ]
  },
  {
   "cell_type": "markdown",
   "id": "e60e4fa9",
   "metadata": {},
   "source": [
    "### Polynomial Trend"
   ]
  },
  {
   "cell_type": "code",
   "execution_count": 21,
   "id": "4ac5ec5e",
   "metadata": {},
   "outputs": [],
   "source": [
    "class PolynomialProcess:\n",
    "    \"\"\"data generating process\"\"\"\n",
    "    def __init__(self, type='linear', seq_len=2000, num_seeds=3, num_samples_per_task=100):\n",
    "        self.type = type\n",
    "        self.seq_len = seq_len\n",
    "        self.num_seeds = num_seeds\n",
    "        self.n = num_samples_per_task\n",
    "        \n",
    "    def generate_data(self):\n",
    "        \"\"\"generate data sequences over the specified number of seeds\"\"\"\n",
    "        xseq, yseq, taskseq = [], [], []\n",
    "        tseq = []\n",
    "        for _ in range(self.num_seeds):\n",
    "            dat = self.generate_sequence(np.random.randint(0, 1000))\n",
    "            xseq.append(dat[0])\n",
    "            yseq.append(dat[1])\n",
    "            taskseq.append(dat[2])\n",
    "            tseq.append(dat[2])\n",
    "            \n",
    "        xseq = np.array(xseq)\n",
    "        yseq = np.array(yseq)\n",
    "        tseq = np.array(tseq)\n",
    "        taskseq = np.array(taskseq)\n",
    "\n",
    "        self.data = {'x': xseq,\n",
    "                     'y': yseq,\n",
    "                     't': tseq,\n",
    "                     'task': taskseq}\n",
    "\n",
    "    def generate_sequence(self, seed):\n",
    "        \"\"\"generate a sequence of data\"\"\"\n",
    "        np.random.seed(seed)\n",
    "\n",
    "        data = []\n",
    "        for s in range(self.seq_len):\n",
    "            x, y, t = self.generate_at_time(s, self.n)\n",
    "            data.append([x, y, t])\n",
    "        data = np.concatenate(data, axis=-1)\n",
    "        Xdat = data[0, :].reshape(-1, 1)\n",
    "        Ydat = data[1, :].astype(int)\n",
    "        tind = data[2, :]\n",
    "        return Xdat, Ydat, tind\n",
    "    \n",
    "    def generate_at_time(self, t, num_samples, return_tensors=False):\n",
    "        \"\"\"generate a test sample of data (x, y) ~ p_t from the marginal \n",
    "        of the process at time t. This is used to evaluate the instantaneous\n",
    "        loss of the predictor\n",
    "        \"\"\"\n",
    "        m = 0.1\n",
    "        if self.type == 'linear':\n",
    "            trend = lambda t : m * t\n",
    "        elif self.type == 'quadratic':\n",
    "            trend = lambda t : m * t**2\n",
    "        else:\n",
    "            raise ValueError(f\"Unknown process type: {self.type}\")\n",
    "\n",
    "        x1 = np.random.uniform(trend(t)-11, trend(t)-10, num_samples // 2)\n",
    "        x2 = np.random.uniform(trend(t)+10, trend(t)+11, num_samples // 2)\n",
    "\n",
    "        x = np.concatenate((x1, x2))\n",
    "        y = np.concatenate((np.ones(num_samples // 2), np.zeros(num_samples // 2)))\n",
    "\n",
    "        ts = t * np.ones(num_samples)\n",
    "\n",
    "        if return_tensors:  \n",
    "            x = torch.from_numpy(x.reshape(-1, 1)).float()\n",
    "            y = torch.from_numpy(y.reshape(-1)).long()\n",
    "            t = torch.from_numpy(ts.reshape(-1)).float()\n",
    "            return x, y, t\n",
    "        else:\n",
    "            return x, y, ts\n",
    "    \n",
    "# class SyntheticDataset(Dataset):\n",
    "#     \"\"\"Form the torch dataset\"\"\"\n",
    "#     def __init__(self, data, present, run_id, test, normalize=True):\n",
    "#         x = torch.from_numpy(data['x'][run_id]).float()\n",
    "#         y = torch.from_numpy(data['y'][run_id]).long()\n",
    "#         t = torch.from_numpy(data['t'][run_id]).float()\n",
    "\n",
    "#         train_idx = torch.where(t < present)\n",
    "#         x_tr = x[train_idx]\n",
    "#         y_tr = y[train_idx]\n",
    "#         t_tr = t[train_idx]\n",
    "\n",
    "#         test_idx = torch.where(t >= present)\n",
    "#         x_te = x[test_idx]\n",
    "#         y_te = y[test_idx]\n",
    "#         t_te = t[test_idx]\n",
    "\n",
    "#         self.x_tr = x_tr\n",
    "#         self.y_tr = y_tr\n",
    "#         self.t_tr = t_tr\n",
    "        \n",
    "#         if test:\n",
    "#             self.x = self.minimax_normalize(x_te, x_tr)\n",
    "#             self.t = self.minimax_normalize(t_te, t_tr)\n",
    "#             self.y = y_te\n",
    "#         else:\n",
    "#             self.x = self.minimax_normalize(x_tr, x_tr)\n",
    "#             self.t = self.minimax_normalize(t_tr, t_tr)\n",
    "#             self.y = y_tr\n",
    "\n",
    "#     def minimax_normalize(self, a, a_tr):\n",
    "#         tr_min, tr_max = a_tr.min(), a_tr.max()\n",
    "#         return (a - tr_min)/(tr_max - tr_min)\n",
    "\n",
    "#     def __len__(self):\n",
    "#         return len(self.y)\n",
    "\n",
    "#     def __getitem__(self, idx):\n",
    "#         x = self.x[idx]\n",
    "#         y = self.y[idx]\n",
    "#         t = self.t[idx]\n",
    "#         return x, y, t"
   ]
  },
  {
   "cell_type": "markdown",
   "id": "8bcd1779",
   "metadata": {},
   "source": [
    "### ABAB Process"
   ]
  },
  {
   "cell_type": "code",
   "execution_count": 22,
   "id": "bea94ff2",
   "metadata": {},
   "outputs": [],
   "source": [
    "class ABABProcess:\n",
    "    \"\"\"data generating process\"\"\"\n",
    "    def __init__(self, period=20, seq_len=10000, num_seeds=3, num_samples_per_task=20):\n",
    "        self.seq_len = seq_len\n",
    "        self.num_seeds = num_seeds\n",
    "        self.period = period\n",
    "        self.num_samples_per_task = num_samples_per_task\n",
    "\n",
    "    def generate_data(self):\n",
    "        \"\"\"generate data sequences over the specified number of seeds\"\"\"\n",
    "        xseq, yseq, tseq = [], [], []\n",
    "        for _ in range(self.num_seeds):\n",
    "            dat = self.generate_sequence(np.random.randint(0, 10000))\n",
    "            xseq.append(dat[0])\n",
    "            yseq.append(dat[1])\n",
    "            tseq.append(dat[2])\n",
    "\n",
    "        self.data = {\n",
    "            'x': xseq,\n",
    "            'y': yseq,\n",
    "            't': tseq,\n",
    "        }\n",
    "\n",
    "    def generate_sequence(self, seed):\n",
    "        \"\"\"generate a sequence of data\"\"\"\n",
    "        np.random.seed(seed)\n",
    "\n",
    "        data = []\n",
    "        for s in range(self.seq_len):\n",
    "            x, y, t = self.generate_at_time(s, self.num_samples_per_task)\n",
    "            data.append([x, y, t])\n",
    "        data = np.concatenate(data, axis=-1)\n",
    "        Xdat = data[0, :].reshape(-1, 1)\n",
    "        Ydat = data[1, :].astype(int)\n",
    "        tind = data[2, :]\n",
    "        return Xdat, Ydat, tind\n",
    "\n",
    "    \n",
    "    def generate_at_time(self, t, num_samples, return_tensors=False):\n",
    "        \"\"\"generate a test sample of data (x, y) ~ p_t from the marginal \n",
    "        of the process at time t. This is used to evaluate the instantaneous\n",
    "        loss of the predictor\n",
    "\n",
    "        might not be needed\n",
    "        \"\"\"\n",
    "        # Generate samples from U[-2, -1] union U[1, 2]\n",
    "        x1 = np.random.uniform(-2, -1, num_samples)\n",
    "        x2 = np.random.uniform(1, 2, num_samples)\n",
    "        mask = np.random.choice([0, 1], p=[0.5, 0.5], size=num_samples)\n",
    "        Xdat = x1 * mask + x2 * (1 - mask)\n",
    "\n",
    "        # create labels\n",
    "        T = self.period\n",
    "        if (t % T) < (T // 2):\n",
    "            Ydat = Xdat > 0\n",
    "        else:\n",
    "            Ydat = Xdat < 0\n",
    "\n",
    "        tdat = t * np.ones(num_samples)\n",
    "\n",
    "        if return_tensors:\n",
    "            x = torch.from_numpy(Xdat.reshape(-1, 1)).float()\n",
    "            y = torch.from_numpy(Ydat.reshape(-1)).long()\n",
    "            t = torch.from_numpy(tdat.reshape(-1)).float()\n",
    "            return x, y, t\n",
    "        else:\n",
    "            return Xdat, Ydat, tdat"
   ]
  },
  {
   "cell_type": "code",
   "execution_count": 23,
   "id": "fe32d62a",
   "metadata": {},
   "outputs": [],
   "source": [
    "class SyntheticDataset(Dataset):\n",
    "    \"\"\"Form the torch dataset\"\"\"\n",
    "    def __init__(self, data, present, run_id, test, normalize_x=False, normalize_t=False):\n",
    "        x = torch.from_numpy(data['x'][run_id]).float()\n",
    "        y = torch.from_numpy(data['y'][run_id]).long()\n",
    "        t = torch.from_numpy(data['t'][run_id]).float()\n",
    "\n",
    "        train_idx = torch.where(t < present)\n",
    "        x_tr = x[train_idx]\n",
    "        y_tr = y[train_idx]\n",
    "        t_tr = t[train_idx]\n",
    "\n",
    "        test_idx = torch.where(t >= present)\n",
    "        x_te = x[test_idx]\n",
    "        y_te = y[test_idx]\n",
    "        t_te = t[test_idx]\n",
    "\n",
    "        self.x_tr = x_tr\n",
    "        self.y_tr = y_tr\n",
    "        self.t_tr = t_tr\n",
    "        \n",
    "        if test:\n",
    "            self.x = self.minimax_normalize(x_te, x_tr) if normalize_x else x_te\n",
    "            self.t = self.minimax_normalize(t_te, t_tr) if normalize_t else t_te\n",
    "            self.y = y_te\n",
    "        else:\n",
    "            self.x = self.minimax_normalize(x_tr, x_tr) if normalize_x else x_tr\n",
    "            self.t = self.minimax_normalize(t_tr, t_tr) if normalize_t else t_tr\n",
    "            self.y = y_tr\n",
    "\n",
    "    def minimax_normalize(self, a, a_tr):\n",
    "        tr_min, tr_max = a_tr.min(), a_tr.max()\n",
    "        return (a - tr_min)/(tr_max - tr_min)\n",
    "\n",
    "    def __len__(self):\n",
    "        return len(self.y)\n",
    "\n",
    "    def __getitem__(self, idx):\n",
    "        x = self.x[idx]\n",
    "        y = self.y[idx]\n",
    "        t = self.t[idx]\n",
    "        return x, y, t"
   ]
  },
  {
   "cell_type": "markdown",
   "id": "8d729ac8",
   "metadata": {},
   "source": [
    "### Model"
   ]
  },
  {
   "cell_type": "code",
   "execution_count": 24,
   "id": "a7f2a992",
   "metadata": {},
   "outputs": [],
   "source": [
    "class FourierEmbedding(nn.Module):\n",
    "    \"\"\"form the Fourier time-embedding\"\"\"\n",
    "    def __init__(self, tdim=50):\n",
    "        super(FourierEmbedding, self).__init__()\n",
    "        self.freqs = (2 * np.pi) / torch.arange(2, tdim + 1, 2).unsqueeze(0)\n",
    "\n",
    "    def forward(self, t):\n",
    "        t = t.unsqueeze(-1)\n",
    "        sin_emb = torch.sin(self.freqs.to(t.device) * t)\n",
    "        cos_emb = torch.cos(self.freqs.to(t.device) * t)\n",
    "        return torch.cat([sin_emb, cos_emb], dim=-1)\n",
    "    \n",
    "class PolynomialEmbedding(nn.Module):\n",
    "    \"\"\"form the polynomial time-embedding\"\"\"\n",
    "    def __init__(self, tdim=4):\n",
    "        super(PolynomialEmbedding, self).__init__()\n",
    "        self.tdim = tdim\n",
    "\n",
    "    def forward(self, t):\n",
    "        t = t.unsqueeze(-1)\n",
    "        return torch.cat([torch.pow(t, k) for k in range(1, self.tdim+1)], dim=-1).to(t.device)\n",
    "\n",
    "class MLP(nn.Module):\n",
    "    \"\"\"a simple MLP architecture for implementing both vanilla-MLP and\n",
    "    prospective-MLP\n",
    "    \"\"\"\n",
    "    def __init__(self, hidden_dim=[1, 32, 2], prospective=False, embedding_type='fourier', tdim=10):\n",
    "        super(MLP, self).__init__()\n",
    "        self.prospective = prospective\n",
    "        \n",
    "        if prospective:\n",
    "            if embedding_type == 'fourier':\n",
    "                self.embedding = FourierEmbedding(tdim)\n",
    "            elif embedding_type == 'polynomial':\n",
    "                self.embedding = PolynomialEmbedding(tdim)\n",
    "            else:\n",
    "                raise ValueError(f\"Unknown embedding type: {embedding_type}\")\n",
    "\n",
    "        self.layers = nn.ModuleList()\n",
    "        for i in range(len(hidden_dim)-1):\n",
    "            if prospective and i == 0:\n",
    "                self.layers.append(nn.Linear(hidden_dim[i] + tdim, hidden_dim[i+1]))\n",
    "            else:\n",
    "                self.layers.append(nn.Linear(hidden_dim[i], hidden_dim[i+1]))\n",
    "        self.relu = nn.ReLU()\n",
    "\n",
    "    def forward(self, x, t):\n",
    "        if self.prospective:\n",
    "            t = self.embedding(t)\n",
    "            x = torch.cat([x, t], dim=-1)\n",
    "        for i, layer in enumerate(self.layers):\n",
    "            x = layer(x)\n",
    "            if i < len(self.layers)-1:\n",
    "                x = self.relu(x)\n",
    "        return x"
   ]
  },
  {
   "cell_type": "code",
   "execution_count": 25,
   "id": "495064dd",
   "metadata": {},
   "outputs": [],
   "source": [
    "import random\n",
    "\n",
    "def set_seed(acorn):\n",
    "    \"\"\"set random seed\"\"\"\n",
    "    random.seed(acorn)\n",
    "    np.random.seed(acorn)\n",
    "    torch.manual_seed(acorn)\n",
    "    torch.cuda.manual_seed(acorn)\n",
    "    torch.cuda.manual_seed_all(acorn)\n",
    "\n",
    "def get_dataloaders(dp, t, seed, normalize_x, normalize_t):\n",
    "    \"\"\"obtain the dataloaders\"\"\"\n",
    "    train_dataset = SyntheticDataset(dp.data, t, seed, test=False, normalize_x=normalize_x, normalize_t=normalize_t)\n",
    "    test_dataset = SyntheticDataset(dp.data, t, seed, test=True, normalize_x=normalize_x, normalize_t=normalize_t)\n",
    "\n",
    "    x, y, t = dp.generate_at_time(t, 500, return_tensors=True)\n",
    "    x = train_dataset.minimax_normalize(x, train_dataset.x_tr) if normalize_x else x\n",
    "    t = train_dataset.minimax_normalize(t, train_dataset.t_tr) if normalize_t else t\n",
    "    ttest_dataset = TensorDataset(x, y, t)\n",
    "\n",
    "    if len(train_dataset) > 32:\n",
    "        bs = 32\n",
    "    else:\n",
    "        bs = 2\n",
    "\n",
    "    trainloader = DataLoader(\n",
    "        train_dataset,\n",
    "        batch_size=bs,\n",
    "        shuffle=True,\n",
    "        drop_last=True\n",
    "    )\n",
    "    testloader = DataLoader(\n",
    "        test_dataset, \n",
    "        batch_size=100,\n",
    "        shuffle=False\n",
    "    )\n",
    "    ttestloader = DataLoader(\n",
    "        ttest_dataset, \n",
    "        batch_size=100,\n",
    "        shuffle=False\n",
    "    )\n",
    "    return trainloader, testloader, ttestloader\n",
    "\n",
    "class Trainer:\n",
    "    \"\"\"trainer class for the models\"\"\"\n",
    "    def __init__(self, model, train_loader, test_loader, ttest_loader, criterion, optimizer, device, verbose=False):\n",
    "        self.model = model\n",
    "        self.train_loader = train_loader\n",
    "        self.test_loader = test_loader\n",
    "        self.ttest_loader = ttest_loader\n",
    "        self.criterion = criterion\n",
    "        self.optimizer = optimizer\n",
    "        self.device = device\n",
    "        self.verbose = verbose\n",
    "\n",
    "    def train_one_epoch(self):\n",
    "        self.model.train()\n",
    "        total_loss = 0.0\n",
    "        \n",
    "        for batch in self.train_loader:\n",
    "            batch = [b.to(self.device) for b in batch]\n",
    "            x, y, t = batch\n",
    "            outputs = self.model(x, t)\n",
    "\n",
    "            loss = self.criterion(outputs.squeeze(), y)\n",
    "\n",
    "            self.optimizer.zero_grad()  \n",
    "            loss.backward()            \n",
    "            self.optimizer.step() \n",
    "\n",
    "            total_loss += loss.clone().detach().item()\n",
    "\n",
    "        return total_loss / len(self.train_loader)\n",
    "\n",
    "    def evaluate(self, model=None):\n",
    "        if model is not None:\n",
    "            self.model = model\n",
    "        self.model.eval()\n",
    "        perrs = []\n",
    "        with torch.no_grad():\n",
    "            for batch in self.test_loader:\n",
    "                batch = [b.to(self.device) for b in batch]\n",
    "                x, y, t = batch\n",
    "                logits = self.model(x, t)\n",
    "                probs = torch.softmax(logits, dim=1)\n",
    "                err = (probs.argmax(dim=1) != y).float()\n",
    "                perrs.append(err.detach().cpu().numpy())\n",
    "        perrs = np.concatenate(perrs)\n",
    "        times = self.test_loader.dataset.t.numpy()\n",
    "        ploss = np.mean([np.mean(perrs[times == i]) for i in np.unique(times)])\n",
    "\n",
    "        errs = []\n",
    "        with torch.no_grad():\n",
    "            for batch in self.ttest_loader:\n",
    "                batch = [b.to(self.device) for b in batch]\n",
    "                x, y, t = batch\n",
    "                logits = self.model(x, t)\n",
    "                probs = torch.softmax(logits, dim=1)\n",
    "                err = (probs.argmax(dim=1) != y).float()\n",
    "                errs.append(err.cpu().numpy())\n",
    "        iloss = np.concatenate(errs).mean()\n",
    "        \n",
    "        return ploss, iloss\n",
    "\n",
    "    def train(self, num_epochs):\n",
    "        progress_bar = tqdm(range(num_epochs), desc=\"Training\", unit=\"epoch\")\n",
    "        for epoch in progress_bar:\n",
    "            train_loss = self.train_one_epoch()\n",
    "            if self.verbose:\n",
    "                progress_bar.set_description(f\"Epoch [{epoch + 1}/{num_epochs}] - Loss: {train_loss:.4f}\")"
   ]
  },
  {
   "cell_type": "code",
   "execution_count": 36,
   "id": "c73b9541",
   "metadata": {},
   "outputs": [],
   "source": [
    "# data generating args\n",
    "process = 'ABAB' # or 'ABAB' or 'Linear'\n",
    "seq_len = 500\n",
    "num_seeds = 3\n",
    "num_samples_per_task = 20\n",
    "period = 20\n",
    "\n",
    "# model args\n",
    "hidden_dim = [1, 8, 8, 2]\n",
    "\n",
    "# training args\n",
    "num_epochs = 100\n",
    "lr = 0.01\n",
    "criterion = nn.CrossEntropyLoss()\n",
    "\n",
    "# experiment args\n",
    "t_list = np.arange(50, 450+1, 50) # list of time steps "
   ]
  },
  {
   "cell_type": "code",
   "execution_count": 37,
   "id": "c9c69e7c",
   "metadata": {},
   "outputs": [],
   "source": [
    "if process == 'Linear':\n",
    "    dp = PolynomialProcess(\n",
    "        type='linear',\n",
    "        seq_len=seq_len,\n",
    "        num_seeds=num_seeds,\n",
    "        num_samples_per_task=num_samples_per_task\n",
    "    )\n",
    "    methods = [\n",
    "        {\"name\": \"FTL\", \"is_prospective\" : False, \"embedding_type\" : \"None\", \"tdim\" : 0, \"normalize_x\" : True, \"normalize_t\" : False},\n",
    "        {\"name\": \"P-MLP (fourier)\", \"is_prospective\" : True, \"embedding_type\" : \"fourier\", \"tdim\" : 50, \"normalize_x\" : True, \"normalize_t\" : False},\n",
    "        {\"name\": \"P-MLP (polynomial)\", \"is_prospective\" : True, \"embedding_type\" : \"polynomial\", \"tdim\" : 4, \"normalize_x\" : True, \"normalize_t\" : True},\n",
    "    ]\n",
    "elif process == 'ABAB':\n",
    "    dp = ABABProcess(\n",
    "        period=period,\n",
    "        seq_len=seq_len,\n",
    "        num_seeds=num_seeds,\n",
    "        num_samples_per_task=num_samples_per_task\n",
    "    )\n",
    "    methods = [\n",
    "        {\"name\": \"FTL\", \"is_prospective\" : False, \"embedding_type\" : \"None\", \"tdim\" : 0, \"normalize_x\" : False, \"normalize_t\" : False},\n",
    "        {\"name\": \"P-MLP (fourier)\", \"is_prospective\" : True, \"embedding_type\" : \"fourier\", \"tdim\" : 50, \"normalize_x\" : False, \"normalize_t\" : False},\n",
    "        {\"name\": \"P-MLP (polynomial)\", \"is_prospective\" : True, \"embedding_type\" : \"polynomial\", \"tdim\" : 4, \"normalize_x\" : False, \"normalize_t\" : True},\n",
    "    ]\n",
    "else:\n",
    "    raise ValueError(f\"Unknown process type: {process}\")\n",
    "\n",
    "\n",
    "dp.generate_data()"
   ]
  },
  {
   "cell_type": "code",
   "execution_count": 38,
   "id": "8e2a4e32",
   "metadata": {},
   "outputs": [
    {
     "name": "stdout",
     "output_type": "stream",
     "text": [
      "Method: {'name': 'FTL', 'is_prospective': False, 'embedding_type': 'None', 'tdim': 0, 'normalize_x': False, 'normalize_t': False}\n",
      "seed = 0\n",
      "time t = 50\n"
     ]
    },
    {
     "name": "stderr",
     "output_type": "stream",
     "text": [
      "Epoch [100/100] - Loss: 0.6740: 100%|██████████| 100/100 [00:01<00:00, 52.80epoch/s]\n"
     ]
    },
    {
     "name": "stdout",
     "output_type": "stream",
     "text": [
      "instant loss: 1.0000, prospective loss: 0.5111\n",
      "time t = 100\n"
     ]
    },
    {
     "name": "stderr",
     "output_type": "stream",
     "text": [
      "Epoch [100/100] - Loss: 0.6932: 100%|██████████| 100/100 [00:03<00:00, 29.08epoch/s]\n"
     ]
    },
    {
     "name": "stdout",
     "output_type": "stream",
     "text": [
      "instant loss: 0.5220, prospective loss: 0.5045\n",
      "time t = 150\n"
     ]
    },
    {
     "name": "stderr",
     "output_type": "stream",
     "text": [
      "Epoch [100/100] - Loss: 0.6908: 100%|██████████| 100/100 [00:04<00:00, 20.04epoch/s]\n"
     ]
    },
    {
     "name": "stdout",
     "output_type": "stream",
     "text": [
      "instant loss: 0.7200, prospective loss: 0.5081\n",
      "time t = 200\n"
     ]
    },
    {
     "name": "stderr",
     "output_type": "stream",
     "text": [
      "Epoch [100/100] - Loss: 0.6935: 100%|██████████| 100/100 [00:06<00:00, 14.78epoch/s]\n"
     ]
    },
    {
     "name": "stdout",
     "output_type": "stream",
     "text": [
      "instant loss: 0.1700, prospective loss: 0.4985\n",
      "time t = 250\n"
     ]
    },
    {
     "name": "stderr",
     "output_type": "stream",
     "text": [
      "Epoch [100/100] - Loss: 0.6929: 100%|██████████| 100/100 [00:08<00:00, 11.98epoch/s]\n"
     ]
    },
    {
     "name": "stdout",
     "output_type": "stream",
     "text": [
      "instant loss: 1.0000, prospective loss: 0.5200\n",
      "time t = 300\n"
     ]
    },
    {
     "name": "stderr",
     "output_type": "stream",
     "text": [
      "Epoch [100/100] - Loss: 0.6934: 100%|██████████| 100/100 [00:10<00:00,  9.98epoch/s]\n"
     ]
    },
    {
     "name": "stdout",
     "output_type": "stream",
     "text": [
      "instant loss: 0.4960, prospective loss: 0.5058\n",
      "time t = 350\n"
     ]
    },
    {
     "name": "stderr",
     "output_type": "stream",
     "text": [
      "Epoch [100/100] - Loss: 0.6931: 100%|██████████| 100/100 [00:11<00:00,  8.62epoch/s]\n"
     ]
    },
    {
     "name": "stdout",
     "output_type": "stream",
     "text": [
      "instant loss: 0.8800, prospective loss: 0.5267\n",
      "time t = 400\n"
     ]
    },
    {
     "name": "stderr",
     "output_type": "stream",
     "text": [
      "Epoch [100/100] - Loss: 0.6934: 100%|██████████| 100/100 [00:13<00:00,  7.50epoch/s]\n"
     ]
    },
    {
     "name": "stdout",
     "output_type": "stream",
     "text": [
      "instant loss: 0.4820, prospective loss: 0.5025\n",
      "time t = 450\n"
     ]
    },
    {
     "name": "stderr",
     "output_type": "stream",
     "text": [
      "Epoch [100/100] - Loss: 0.6929: 100%|██████████| 100/100 [00:14<00:00,  6.68epoch/s]\n"
     ]
    },
    {
     "name": "stdout",
     "output_type": "stream",
     "text": [
      "instant loss: 0.5020, prospective loss: 0.4990\n",
      "seed = 1\n",
      "time t = 50\n"
     ]
    },
    {
     "name": "stderr",
     "output_type": "stream",
     "text": [
      "Epoch [100/100] - Loss: 0.6742: 100%|██████████| 100/100 [00:01<00:00, 58.07epoch/s]\n"
     ]
    },
    {
     "name": "stdout",
     "output_type": "stream",
     "text": [
      "instant loss: 1.0000, prospective loss: 0.5111\n",
      "time t = 100\n"
     ]
    },
    {
     "name": "stderr",
     "output_type": "stream",
     "text": [
      "Epoch [100/100] - Loss: 0.6932: 100%|██████████| 100/100 [00:03<00:00, 29.63epoch/s]\n"
     ]
    },
    {
     "name": "stdout",
     "output_type": "stream",
     "text": [
      "instant loss: 0.6440, prospective loss: 0.5111\n",
      "time t = 150\n"
     ]
    },
    {
     "name": "stderr",
     "output_type": "stream",
     "text": [
      "Epoch [100/100] - Loss: 0.6912: 100%|██████████| 100/100 [00:05<00:00, 19.83epoch/s]\n"
     ]
    },
    {
     "name": "stdout",
     "output_type": "stream",
     "text": [
      "instant loss: 1.0000, prospective loss: 0.5143\n",
      "time t = 200\n"
     ]
    },
    {
     "name": "stderr",
     "output_type": "stream",
     "text": [
      "Epoch [100/100] - Loss: 0.6937: 100%|██████████| 100/100 [00:06<00:00, 14.91epoch/s]\n"
     ]
    },
    {
     "name": "stdout",
     "output_type": "stream",
     "text": [
      "instant loss: 0.6020, prospective loss: 0.5112\n",
      "time t = 250\n"
     ]
    },
    {
     "name": "stderr",
     "output_type": "stream",
     "text": [
      "Epoch [100/100] - Loss: 0.6930: 100%|██████████| 100/100 [00:08<00:00, 11.89epoch/s]\n"
     ]
    },
    {
     "name": "stdout",
     "output_type": "stream",
     "text": [
      "instant loss: 1.0000, prospective loss: 0.5200\n",
      "time t = 300\n"
     ]
    },
    {
     "name": "stderr",
     "output_type": "stream",
     "text": [
      "Epoch [100/100] - Loss: 0.6930: 100%|██████████| 100/100 [00:09<00:00, 10.03epoch/s]\n"
     ]
    },
    {
     "name": "stdout",
     "output_type": "stream",
     "text": [
      "instant loss: 0.5200, prospective loss: 0.5125\n",
      "time t = 350\n"
     ]
    },
    {
     "name": "stderr",
     "output_type": "stream",
     "text": [
      "Epoch [100/100] - Loss: 0.6932: 100%|██████████| 100/100 [00:11<00:00,  8.61epoch/s]\n"
     ]
    },
    {
     "name": "stdout",
     "output_type": "stream",
     "text": [
      "instant loss: 0.6900, prospective loss: 0.5203\n",
      "time t = 400\n"
     ]
    },
    {
     "name": "stderr",
     "output_type": "stream",
     "text": [
      "Epoch [100/100] - Loss: 0.6935: 100%|██████████| 100/100 [00:13<00:00,  7.47epoch/s]\n"
     ]
    },
    {
     "name": "stdout",
     "output_type": "stream",
     "text": [
      "instant loss: 0.4720, prospective loss: 0.5020\n",
      "time t = 450\n"
     ]
    },
    {
     "name": "stderr",
     "output_type": "stream",
     "text": [
      "Epoch [100/100] - Loss: 0.6930: 100%|██████████| 100/100 [00:14<00:00,  6.68epoch/s]\n"
     ]
    },
    {
     "name": "stdout",
     "output_type": "stream",
     "text": [
      "instant loss: 0.5060, prospective loss: 0.5010\n",
      "seed = 2\n",
      "time t = 50\n"
     ]
    },
    {
     "name": "stderr",
     "output_type": "stream",
     "text": [
      "Epoch [100/100] - Loss: 0.6744: 100%|██████████| 100/100 [00:01<00:00, 57.99epoch/s]\n"
     ]
    },
    {
     "name": "stdout",
     "output_type": "stream",
     "text": [
      "instant loss: 1.0000, prospective loss: 0.5111\n",
      "time t = 100\n"
     ]
    },
    {
     "name": "stderr",
     "output_type": "stream",
     "text": [
      "Epoch [100/100] - Loss: 0.6934: 100%|██████████| 100/100 [00:03<00:00, 29.47epoch/s]\n"
     ]
    },
    {
     "name": "stdout",
     "output_type": "stream",
     "text": [
      "instant loss: 0.5700, prospective loss: 0.5024\n",
      "time t = 150\n"
     ]
    },
    {
     "name": "stderr",
     "output_type": "stream",
     "text": [
      "Epoch [100/100] - Loss: 0.6919: 100%|██████████| 100/100 [00:05<00:00, 19.95epoch/s]\n"
     ]
    },
    {
     "name": "stdout",
     "output_type": "stream",
     "text": [
      "instant loss: 1.0000, prospective loss: 0.5143\n",
      "time t = 200\n"
     ]
    },
    {
     "name": "stderr",
     "output_type": "stream",
     "text": [
      "Epoch [100/100] - Loss: 0.6936: 100%|██████████| 100/100 [00:06<00:00, 14.85epoch/s]\n"
     ]
    },
    {
     "name": "stdout",
     "output_type": "stream",
     "text": [
      "instant loss: 0.5240, prospective loss: 0.4987\n",
      "time t = 250\n"
     ]
    },
    {
     "name": "stderr",
     "output_type": "stream",
     "text": [
      "Epoch [100/100] - Loss: 0.6933: 100%|██████████| 100/100 [00:08<00:00, 12.04epoch/s]\n"
     ]
    },
    {
     "name": "stdout",
     "output_type": "stream",
     "text": [
      "instant loss: 1.0000, prospective loss: 0.5200\n",
      "time t = 300\n"
     ]
    },
    {
     "name": "stderr",
     "output_type": "stream",
     "text": [
      "Epoch [100/100] - Loss: 0.6935: 100%|██████████| 100/100 [00:09<00:00, 10.03epoch/s]\n"
     ]
    },
    {
     "name": "stdout",
     "output_type": "stream",
     "text": [
      "instant loss: 0.4820, prospective loss: 0.5068\n",
      "time t = 350\n"
     ]
    },
    {
     "name": "stderr",
     "output_type": "stream",
     "text": [
      "Epoch [100/100] - Loss: 0.6930: 100%|██████████| 100/100 [00:11<00:00,  8.57epoch/s]\n"
     ]
    },
    {
     "name": "stdout",
     "output_type": "stream",
     "text": [
      "instant loss: 1.0000, prospective loss: 0.5333\n",
      "time t = 400\n"
     ]
    },
    {
     "name": "stderr",
     "output_type": "stream",
     "text": [
      "Epoch [100/100] - Loss: 0.6936: 100%|██████████| 100/100 [00:13<00:00,  7.51epoch/s]\n"
     ]
    },
    {
     "name": "stdout",
     "output_type": "stream",
     "text": [
      "instant loss: 0.5200, prospective loss: 0.5225\n",
      "time t = 450\n"
     ]
    },
    {
     "name": "stderr",
     "output_type": "stream",
     "text": [
      "Epoch [100/100] - Loss: 0.6933: 100%|██████████| 100/100 [00:15<00:00,  6.66epoch/s]\n"
     ]
    },
    {
     "name": "stdout",
     "output_type": "stream",
     "text": [
      "instant loss: 0.9100, prospective loss: 0.5730\n",
      "Method: {'name': 'P-MLP (fourier)', 'is_prospective': True, 'embedding_type': 'fourier', 'tdim': 50, 'normalize_x': False, 'normalize_t': False}\n",
      "seed = 0\n",
      "time t = 50\n"
     ]
    },
    {
     "name": "stderr",
     "output_type": "stream",
     "text": [
      "Epoch [100/100] - Loss: 0.0002: 100%|██████████| 100/100 [00:01<00:00, 55.46epoch/s]\n"
     ]
    },
    {
     "name": "stdout",
     "output_type": "stream",
     "text": [
      "instant loss: 1.0000, prospective loss: 0.3280\n",
      "time t = 100\n"
     ]
    },
    {
     "name": "stderr",
     "output_type": "stream",
     "text": [
      "Epoch [100/100] - Loss: 0.0001: 100%|██████████| 100/100 [00:03<00:00, 28.27epoch/s]\n"
     ]
    },
    {
     "name": "stdout",
     "output_type": "stream",
     "text": [
      "instant loss: 0.1440, prospective loss: 0.2190\n",
      "time t = 150\n"
     ]
    },
    {
     "name": "stderr",
     "output_type": "stream",
     "text": [
      "Epoch [100/100] - Loss: 0.0001: 100%|██████████| 100/100 [00:05<00:00, 18.88epoch/s]\n"
     ]
    },
    {
     "name": "stdout",
     "output_type": "stream",
     "text": [
      "instant loss: 0.8220, prospective loss: 0.0707\n",
      "time t = 200\n"
     ]
    },
    {
     "name": "stderr",
     "output_type": "stream",
     "text": [
      "Epoch [100/100] - Loss: 0.0001: 100%|██████████| 100/100 [00:07<00:00, 14.26epoch/s]\n"
     ]
    },
    {
     "name": "stdout",
     "output_type": "stream",
     "text": [
      "instant loss: 0.1360, prospective loss: 0.0070\n",
      "time t = 250\n"
     ]
    },
    {
     "name": "stderr",
     "output_type": "stream",
     "text": [
      "Epoch [100/100] - Loss: 0.0000: 100%|██████████| 100/100 [00:08<00:00, 11.32epoch/s]\n"
     ]
    },
    {
     "name": "stdout",
     "output_type": "stream",
     "text": [
      "instant loss: 0.0000, prospective loss: 0.0000\n",
      "time t = 300\n"
     ]
    },
    {
     "name": "stderr",
     "output_type": "stream",
     "text": [
      "Epoch [100/100] - Loss: 0.0000: 100%|██████████| 100/100 [00:10<00:00,  9.50epoch/s]\n"
     ]
    },
    {
     "name": "stdout",
     "output_type": "stream",
     "text": [
      "instant loss: 0.0000, prospective loss: 0.0000\n",
      "time t = 350\n"
     ]
    },
    {
     "name": "stderr",
     "output_type": "stream",
     "text": [
      "Epoch [100/100] - Loss: 0.0000: 100%|██████████| 100/100 [00:12<00:00,  8.16epoch/s]\n"
     ]
    },
    {
     "name": "stdout",
     "output_type": "stream",
     "text": [
      "instant loss: 0.0000, prospective loss: 0.0000\n",
      "time t = 400\n"
     ]
    },
    {
     "name": "stderr",
     "output_type": "stream",
     "text": [
      "Epoch [100/100] - Loss: 0.0000: 100%|██████████| 100/100 [00:14<00:00,  7.12epoch/s]\n"
     ]
    },
    {
     "name": "stdout",
     "output_type": "stream",
     "text": [
      "instant loss: 0.0000, prospective loss: 0.0000\n",
      "time t = 450\n"
     ]
    },
    {
     "name": "stderr",
     "output_type": "stream",
     "text": [
      "Epoch [100/100] - Loss: 0.0000: 100%|██████████| 100/100 [00:15<00:00,  6.38epoch/s]\n"
     ]
    },
    {
     "name": "stdout",
     "output_type": "stream",
     "text": [
      "instant loss: 0.0000, prospective loss: 0.0000\n",
      "seed = 1\n",
      "time t = 50\n"
     ]
    },
    {
     "name": "stderr",
     "output_type": "stream",
     "text": [
      "Epoch [100/100] - Loss: 0.0002: 100%|██████████| 100/100 [00:01<00:00, 55.61epoch/s]\n"
     ]
    },
    {
     "name": "stdout",
     "output_type": "stream",
     "text": [
      "instant loss: 1.0000, prospective loss: 0.3506\n",
      "time t = 100\n"
     ]
    },
    {
     "name": "stderr",
     "output_type": "stream",
     "text": [
      "Epoch [100/100] - Loss: 0.0010: 100%|██████████| 100/100 [00:03<00:00, 27.99epoch/s]\n"
     ]
    },
    {
     "name": "stdout",
     "output_type": "stream",
     "text": [
      "instant loss: 0.1640, prospective loss: 0.2142\n",
      "time t = 150\n"
     ]
    },
    {
     "name": "stderr",
     "output_type": "stream",
     "text": [
      "Epoch [100/100] - Loss: 0.0002: 100%|██████████| 100/100 [00:05<00:00, 19.01epoch/s]\n"
     ]
    },
    {
     "name": "stdout",
     "output_type": "stream",
     "text": [
      "instant loss: 0.7040, prospective loss: 0.0961\n",
      "time t = 200\n"
     ]
    },
    {
     "name": "stderr",
     "output_type": "stream",
     "text": [
      "Epoch [100/100] - Loss: 0.0001: 100%|██████████| 100/100 [00:07<00:00, 14.09epoch/s]\n"
     ]
    },
    {
     "name": "stdout",
     "output_type": "stream",
     "text": [
      "instant loss: 0.0500, prospective loss: 0.0102\n",
      "time t = 250\n"
     ]
    },
    {
     "name": "stderr",
     "output_type": "stream",
     "text": [
      "Epoch [100/100] - Loss: 0.0000: 100%|██████████| 100/100 [00:08<00:00, 11.46epoch/s]\n"
     ]
    },
    {
     "name": "stdout",
     "output_type": "stream",
     "text": [
      "instant loss: 0.0000, prospective loss: 0.0008\n",
      "time t = 300\n"
     ]
    },
    {
     "name": "stderr",
     "output_type": "stream",
     "text": [
      "Epoch [100/100] - Loss: 0.0000: 100%|██████████| 100/100 [00:10<00:00,  9.53epoch/s]\n"
     ]
    },
    {
     "name": "stdout",
     "output_type": "stream",
     "text": [
      "instant loss: 0.0000, prospective loss: 0.0000\n",
      "time t = 350\n"
     ]
    },
    {
     "name": "stderr",
     "output_type": "stream",
     "text": [
      "Epoch [100/100] - Loss: 0.0000: 100%|██████████| 100/100 [00:12<00:00,  8.14epoch/s]\n"
     ]
    },
    {
     "name": "stdout",
     "output_type": "stream",
     "text": [
      "instant loss: 0.0000, prospective loss: 0.0000\n",
      "time t = 400\n"
     ]
    },
    {
     "name": "stderr",
     "output_type": "stream",
     "text": [
      "Epoch [100/100] - Loss: 0.0000: 100%|██████████| 100/100 [00:13<00:00,  7.15epoch/s]\n"
     ]
    },
    {
     "name": "stdout",
     "output_type": "stream",
     "text": [
      "instant loss: 0.0000, prospective loss: 0.0000\n",
      "time t = 450\n"
     ]
    },
    {
     "name": "stderr",
     "output_type": "stream",
     "text": [
      "Epoch [100/100] - Loss: 0.0000: 100%|██████████| 100/100 [00:15<00:00,  6.36epoch/s]\n"
     ]
    },
    {
     "name": "stdout",
     "output_type": "stream",
     "text": [
      "instant loss: 0.0000, prospective loss: 0.0000\n",
      "seed = 2\n",
      "time t = 50\n"
     ]
    },
    {
     "name": "stderr",
     "output_type": "stream",
     "text": [
      "Epoch [100/100] - Loss: 0.0005: 100%|██████████| 100/100 [00:01<00:00, 55.92epoch/s]\n"
     ]
    },
    {
     "name": "stdout",
     "output_type": "stream",
     "text": [
      "instant loss: 1.0000, prospective loss: 0.3602\n",
      "time t = 100\n"
     ]
    },
    {
     "name": "stderr",
     "output_type": "stream",
     "text": [
      "Epoch [100/100] - Loss: 0.0001: 100%|██████████| 100/100 [00:03<00:00, 28.56epoch/s]\n"
     ]
    },
    {
     "name": "stdout",
     "output_type": "stream",
     "text": [
      "instant loss: 0.5160, prospective loss: 0.2370\n",
      "time t = 150\n"
     ]
    },
    {
     "name": "stderr",
     "output_type": "stream",
     "text": [
      "Epoch [100/100] - Loss: 0.0002: 100%|██████████| 100/100 [00:05<00:00, 18.99epoch/s]\n"
     ]
    },
    {
     "name": "stdout",
     "output_type": "stream",
     "text": [
      "instant loss: 0.8460, prospective loss: 0.0889\n",
      "time t = 200\n"
     ]
    },
    {
     "name": "stderr",
     "output_type": "stream",
     "text": [
      "Epoch [100/100] - Loss: 0.0001: 100%|██████████| 100/100 [00:06<00:00, 14.32epoch/s]\n"
     ]
    },
    {
     "name": "stdout",
     "output_type": "stream",
     "text": [
      "instant loss: 0.1840, prospective loss: 0.0240\n",
      "time t = 250\n"
     ]
    },
    {
     "name": "stderr",
     "output_type": "stream",
     "text": [
      "Epoch [100/100] - Loss: 0.0000: 100%|██████████| 100/100 [00:08<00:00, 11.45epoch/s]\n"
     ]
    },
    {
     "name": "stdout",
     "output_type": "stream",
     "text": [
      "instant loss: 0.0000, prospective loss: 0.0000\n",
      "time t = 300\n"
     ]
    },
    {
     "name": "stderr",
     "output_type": "stream",
     "text": [
      "Epoch [100/100] - Loss: 0.0000: 100%|██████████| 100/100 [00:10<00:00,  9.65epoch/s]\n"
     ]
    },
    {
     "name": "stdout",
     "output_type": "stream",
     "text": [
      "instant loss: 0.0000, prospective loss: 0.0000\n",
      "time t = 350\n"
     ]
    },
    {
     "name": "stderr",
     "output_type": "stream",
     "text": [
      "Epoch [100/100] - Loss: 0.0000: 100%|██████████| 100/100 [00:12<00:00,  8.25epoch/s]\n"
     ]
    },
    {
     "name": "stdout",
     "output_type": "stream",
     "text": [
      "instant loss: 0.0000, prospective loss: 0.0000\n",
      "time t = 400\n"
     ]
    },
    {
     "name": "stderr",
     "output_type": "stream",
     "text": [
      "Epoch [100/100] - Loss: 0.0000: 100%|██████████| 100/100 [00:13<00:00,  7.22epoch/s]\n"
     ]
    },
    {
     "name": "stdout",
     "output_type": "stream",
     "text": [
      "instant loss: 0.0000, prospective loss: 0.0000\n",
      "time t = 450\n"
     ]
    },
    {
     "name": "stderr",
     "output_type": "stream",
     "text": [
      "Epoch [100/100] - Loss: 0.0000: 100%|██████████| 100/100 [00:15<00:00,  6.40epoch/s]\n"
     ]
    },
    {
     "name": "stdout",
     "output_type": "stream",
     "text": [
      "instant loss: 0.0000, prospective loss: 0.0000\n",
      "Method: {'name': 'P-MLP (polynomial)', 'is_prospective': True, 'embedding_type': 'polynomial', 'tdim': 4, 'normalize_x': False, 'normalize_t': True}\n",
      "seed = 0\n",
      "time t = 50\n"
     ]
    },
    {
     "name": "stderr",
     "output_type": "stream",
     "text": [
      "Epoch [100/100] - Loss: 0.3560: 100%|██████████| 100/100 [00:01<00:00, 55.51epoch/s]\n"
     ]
    },
    {
     "name": "stdout",
     "output_type": "stream",
     "text": [
      "instant loss: 1.0000, prospective loss: 0.5091\n",
      "time t = 100\n"
     ]
    },
    {
     "name": "stderr",
     "output_type": "stream",
     "text": [
      "Epoch [100/100] - Loss: 0.6543: 100%|██████████| 100/100 [00:03<00:00, 28.93epoch/s]\n"
     ]
    },
    {
     "name": "stdout",
     "output_type": "stream",
     "text": [
      "instant loss: 1.0000, prospective loss: 0.5081\n",
      "time t = 150\n"
     ]
    },
    {
     "name": "stderr",
     "output_type": "stream",
     "text": [
      "Epoch [100/100] - Loss: 0.6489: 100%|██████████| 100/100 [00:05<00:00, 19.42epoch/s]\n"
     ]
    },
    {
     "name": "stdout",
     "output_type": "stream",
     "text": [
      "instant loss: 1.0000, prospective loss: 0.5101\n",
      "time t = 200\n"
     ]
    },
    {
     "name": "stderr",
     "output_type": "stream",
     "text": [
      "Epoch [100/100] - Loss: 0.6768: 100%|██████████| 100/100 [00:06<00:00, 14.48epoch/s]\n"
     ]
    },
    {
     "name": "stdout",
     "output_type": "stream",
     "text": [
      "instant loss: 1.0000, prospective loss: 0.5117\n",
      "time t = 250\n"
     ]
    },
    {
     "name": "stderr",
     "output_type": "stream",
     "text": [
      "Epoch [100/100] - Loss: 0.6815: 100%|██████████| 100/100 [00:08<00:00, 11.71epoch/s]\n"
     ]
    },
    {
     "name": "stdout",
     "output_type": "stream",
     "text": [
      "instant loss: 1.0000, prospective loss: 0.5046\n",
      "time t = 300\n"
     ]
    },
    {
     "name": "stderr",
     "output_type": "stream",
     "text": [
      "Epoch [100/100] - Loss: 0.6896: 100%|██████████| 100/100 [00:10<00:00,  9.74epoch/s]\n"
     ]
    },
    {
     "name": "stdout",
     "output_type": "stream",
     "text": [
      "instant loss: 1.0000, prospective loss: 0.5140\n",
      "time t = 350\n"
     ]
    },
    {
     "name": "stderr",
     "output_type": "stream",
     "text": [
      "Epoch [100/100] - Loss: 0.6914: 100%|██████████| 100/100 [00:11<00:00,  8.38epoch/s]\n"
     ]
    },
    {
     "name": "stdout",
     "output_type": "stream",
     "text": [
      "instant loss: 1.0000, prospective loss: 0.5113\n",
      "time t = 400\n"
     ]
    },
    {
     "name": "stderr",
     "output_type": "stream",
     "text": [
      "Epoch [100/100] - Loss: 0.6913: 100%|██████████| 100/100 [00:13<00:00,  7.31epoch/s]\n"
     ]
    },
    {
     "name": "stdout",
     "output_type": "stream",
     "text": [
      "instant loss: 1.0000, prospective loss: 0.5140\n",
      "time t = 450\n"
     ]
    },
    {
     "name": "stderr",
     "output_type": "stream",
     "text": [
      "Epoch [100/100] - Loss: 0.6909: 100%|██████████| 100/100 [00:15<00:00,  6.49epoch/s]\n"
     ]
    },
    {
     "name": "stdout",
     "output_type": "stream",
     "text": [
      "instant loss: 1.0000, prospective loss: 0.5970\n",
      "seed = 1\n",
      "time t = 50\n"
     ]
    },
    {
     "name": "stderr",
     "output_type": "stream",
     "text": [
      "Epoch [100/100] - Loss: 0.2906: 100%|██████████| 100/100 [00:01<00:00, 56.85epoch/s]\n"
     ]
    },
    {
     "name": "stdout",
     "output_type": "stream",
     "text": [
      "instant loss: 1.0000, prospective loss: 0.4976\n",
      "time t = 100\n"
     ]
    },
    {
     "name": "stderr",
     "output_type": "stream",
     "text": [
      "Epoch [100/100] - Loss: 0.6455: 100%|██████████| 100/100 [00:03<00:00, 28.79epoch/s]\n"
     ]
    },
    {
     "name": "stdout",
     "output_type": "stream",
     "text": [
      "instant loss: 0.9780, prospective loss: 0.5141\n",
      "time t = 150\n"
     ]
    },
    {
     "name": "stderr",
     "output_type": "stream",
     "text": [
      "Epoch [100/100] - Loss: 0.6824: 100%|██████████| 100/100 [00:05<00:00, 19.20epoch/s]\n"
     ]
    },
    {
     "name": "stdout",
     "output_type": "stream",
     "text": [
      "instant loss: 1.0000, prospective loss: 0.4954\n",
      "time t = 200\n"
     ]
    },
    {
     "name": "stderr",
     "output_type": "stream",
     "text": [
      "Epoch [100/100] - Loss: 0.6800: 100%|██████████| 100/100 [00:06<00:00, 14.58epoch/s]\n"
     ]
    },
    {
     "name": "stdout",
     "output_type": "stream",
     "text": [
      "instant loss: 1.0000, prospective loss: 0.4990\n",
      "time t = 250\n"
     ]
    },
    {
     "name": "stderr",
     "output_type": "stream",
     "text": [
      "Epoch [100/100] - Loss: 0.6819: 100%|██████████| 100/100 [00:08<00:00, 11.64epoch/s]\n"
     ]
    },
    {
     "name": "stdout",
     "output_type": "stream",
     "text": [
      "instant loss: 1.0000, prospective loss: 0.5166\n",
      "time t = 300\n"
     ]
    },
    {
     "name": "stderr",
     "output_type": "stream",
     "text": [
      "Epoch [100/100] - Loss: 0.6899: 100%|██████████| 100/100 [00:10<00:00,  9.78epoch/s]\n"
     ]
    },
    {
     "name": "stdout",
     "output_type": "stream",
     "text": [
      "instant loss: 1.0000, prospective loss: 0.5142\n",
      "time t = 350\n"
     ]
    },
    {
     "name": "stderr",
     "output_type": "stream",
     "text": [
      "Epoch [100/100] - Loss: 0.6900: 100%|██████████| 100/100 [00:11<00:00,  8.41epoch/s]\n"
     ]
    },
    {
     "name": "stdout",
     "output_type": "stream",
     "text": [
      "instant loss: 1.0000, prospective loss: 0.5137\n",
      "time t = 400\n"
     ]
    },
    {
     "name": "stderr",
     "output_type": "stream",
     "text": [
      "Epoch [100/100] - Loss: 0.6921: 100%|██████████| 100/100 [00:13<00:00,  7.29epoch/s]\n"
     ]
    },
    {
     "name": "stdout",
     "output_type": "stream",
     "text": [
      "instant loss: 0.4720, prospective loss: 0.5020\n",
      "time t = 450\n"
     ]
    },
    {
     "name": "stderr",
     "output_type": "stream",
     "text": [
      "Epoch [100/100] - Loss: 0.6920: 100%|██████████| 100/100 [00:15<00:00,  6.49epoch/s]\n"
     ]
    },
    {
     "name": "stdout",
     "output_type": "stream",
     "text": [
      "instant loss: 1.0000, prospective loss: 0.5980\n",
      "seed = 2\n",
      "time t = 50\n"
     ]
    },
    {
     "name": "stderr",
     "output_type": "stream",
     "text": [
      "Epoch [100/100] - Loss: 0.2986: 100%|██████████| 100/100 [00:01<00:00, 55.53epoch/s]\n"
     ]
    },
    {
     "name": "stdout",
     "output_type": "stream",
     "text": [
      "instant loss: 1.0000, prospective loss: 0.5088\n",
      "time t = 100\n"
     ]
    },
    {
     "name": "stderr",
     "output_type": "stream",
     "text": [
      "Epoch [100/100] - Loss: 0.6435: 100%|██████████| 100/100 [00:03<00:00, 29.00epoch/s]\n"
     ]
    },
    {
     "name": "stdout",
     "output_type": "stream",
     "text": [
      "instant loss: 1.0000, prospective loss: 0.5014\n",
      "time t = 150\n"
     ]
    },
    {
     "name": "stderr",
     "output_type": "stream",
     "text": [
      "Epoch [100/100] - Loss: 0.6553: 100%|██████████| 100/100 [00:05<00:00, 19.53epoch/s]\n"
     ]
    },
    {
     "name": "stdout",
     "output_type": "stream",
     "text": [
      "instant loss: 1.0000, prospective loss: 0.5090\n",
      "time t = 200\n"
     ]
    },
    {
     "name": "stderr",
     "output_type": "stream",
     "text": [
      "Epoch [100/100] - Loss: 0.6875: 100%|██████████| 100/100 [00:06<00:00, 14.46epoch/s]\n"
     ]
    },
    {
     "name": "stdout",
     "output_type": "stream",
     "text": [
      "instant loss: 1.0000, prospective loss: 0.5042\n",
      "time t = 250\n"
     ]
    },
    {
     "name": "stderr",
     "output_type": "stream",
     "text": [
      "Epoch [100/100] - Loss: 0.6878: 100%|██████████| 100/100 [00:08<00:00, 11.67epoch/s]\n"
     ]
    },
    {
     "name": "stdout",
     "output_type": "stream",
     "text": [
      "instant loss: 1.0000, prospective loss: 0.5144\n",
      "time t = 300\n"
     ]
    },
    {
     "name": "stderr",
     "output_type": "stream",
     "text": [
      "Epoch [100/100] - Loss: 0.6871: 100%|██████████| 100/100 [00:10<00:00,  9.72epoch/s]\n"
     ]
    },
    {
     "name": "stdout",
     "output_type": "stream",
     "text": [
      "instant loss: 1.0000, prospective loss: 0.5145\n",
      "time t = 350\n"
     ]
    },
    {
     "name": "stderr",
     "output_type": "stream",
     "text": [
      "Epoch [100/100] - Loss: 0.6865: 100%|██████████| 100/100 [00:11<00:00,  8.33epoch/s]\n"
     ]
    },
    {
     "name": "stdout",
     "output_type": "stream",
     "text": [
      "instant loss: 1.0000, prospective loss: 0.5263\n",
      "time t = 400\n"
     ]
    },
    {
     "name": "stderr",
     "output_type": "stream",
     "text": [
      "Epoch [100/100] - Loss: 0.6924: 100%|██████████| 100/100 [00:13<00:00,  7.24epoch/s]\n"
     ]
    },
    {
     "name": "stdout",
     "output_type": "stream",
     "text": [
      "instant loss: 1.0000, prospective loss: 0.5000\n",
      "time t = 450\n"
     ]
    },
    {
     "name": "stderr",
     "output_type": "stream",
     "text": [
      "Epoch [100/100] - Loss: 0.6926: 100%|██████████| 100/100 [00:15<00:00,  6.42epoch/s]"
     ]
    },
    {
     "name": "stdout",
     "output_type": "stream",
     "text": [
      "instant loss: 1.0000, prospective loss: 0.6000\n"
     ]
    },
    {
     "name": "stderr",
     "output_type": "stream",
     "text": [
      "\n"
     ]
    }
   ],
   "source": [
    "# device\n",
    "device = torch.device(\"cuda\" if torch.cuda.is_available() else \"cpu\")\n",
    "\n",
    "instant_risk = {} # store instant risk for each algorithm\n",
    "prospective_risk = {} # store prospective risk for each algorithm\n",
    "\n",
    "for method in methods:\n",
    "    print(f\"Method: {method}\")\n",
    "    instant_losses = []\n",
    "    prospective_losses = []\n",
    "    for seed in range(num_seeds):\n",
    "        print(f\"seed = {seed}\")\n",
    "        acorn = seed * 1000 + 1996\n",
    "        set_seed(acorn)\n",
    "\n",
    "        iloss_list = []\n",
    "        ploss_list = []\n",
    "        \n",
    "        for t in t_list:\n",
    "            print(f\"time t = {t}\")\n",
    "\n",
    "            trainloader, testloader, ttestloader = get_dataloaders(\n",
    "                dp, t, seed, \n",
    "                normalize_x=method[\"normalize_x\"],\n",
    "                normalize_t=method[\"normalize_t\"],\n",
    "            )\n",
    "        \n",
    "            model = MLP(\n",
    "                hidden_dim=hidden_dim,\n",
    "                prospective=method[\"is_prospective\"], \n",
    "                embedding_type=method[\"embedding_type\"],\n",
    "                tdim=method[\"tdim\"]\n",
    "            )\n",
    "            model.to(device)\n",
    "\n",
    "            optimizer = torch.optim.SGD(\n",
    "                model.parameters(), \n",
    "                lr=lr,\n",
    "                momentum=0.9, \n",
    "                nesterov=True,\n",
    "                weight_decay=0.00001\n",
    "            )\n",
    "\n",
    "            trainer = Trainer(model, trainloader, testloader, ttestloader, criterion, optimizer, device, verbose=True)\n",
    "\n",
    "            if t > 2:\n",
    "                trainer.train(num_epochs=num_epochs)\n",
    "                \n",
    "            ploss, iloss = trainer.evaluate()\n",
    "            iloss_list.append(iloss)\n",
    "            ploss_list.append(ploss)\n",
    "            print(f\"instant loss: {iloss:.4f}, prospective loss: {ploss:.4f}\")\n",
    "\n",
    "        instant_losses.append(iloss_list)\n",
    "        prospective_losses.append(ploss_list)\n",
    "\n",
    "    instant_risk[method[\"name\"]] = np.stack(instant_losses).mean(axis=0)\n",
    "    prospective_risk[method[\"name\"]] = np.stack(prospective_losses).mean(axis=0)"
   ]
  },
  {
   "cell_type": "code",
   "execution_count": 39,
   "id": "62828245",
   "metadata": {},
   "outputs": [],
   "source": [
    "# save the results\n",
    "import pickle\n",
    "with open(f\"embedding_results_{process}.pkl\", \"wb\") as f:\n",
    "    pickle.dump({\n",
    "        \"instant_risk\": instant_risk,\n",
    "        \"prospective_risk\": prospective_risk,\n",
    "        \"t_list\": t_list\n",
    "    }, f)"
   ]
  },
  {
   "cell_type": "code",
   "execution_count": null,
   "id": "a88822c5",
   "metadata": {},
   "outputs": [
    {
     "data": {
      "image/png": "[encoded data removed]",
      "text/plain": [
       "<Figure size 1400x400 with 1 Axes>"
      ]
     },
     "metadata": {},
     "output_type": "display_data"
    }
   ],
   "source": [
    "fig, ax = plt.subplots(figsize=(14, 4), sharex=True)\n",
    "colors = ['#377eb8', '#e41a1c', '#4daf4a', '#984ea3', '#ff7f00']\n",
    "\n",
    "fontsize = 20\n",
    "lw = 2.5\n",
    "\n",
    "for i, method in enumerate(methods):\n",
    "    ax.plot(t_list, prospective_risk[method[\"name\"]], color=colors[i], lw=lw, label=method[\"name\"])\n",
    "    ax.set_yticks([0, 0.5, 1])\n",
    "    ax.set_ylim([-0.05, 1.05])\n",
    "    ax.set_xlim([t_list[0], t_list[-1]])\n",
    "\n",
    "ax.grid(visible=False)\n",
    "\n",
    "ax.set_ylabel(\"Prospective \\n Risk\", fontsize=fontsize)\n",
    "ax.set_xlabel(\"Time (t)\", fontsize=fontsize)\n",
    "\n",
    "ax.tick_params(axis='both', labelsize=fontsize)\n",
    "\n",
    "ax.legend()\n",
    "\n",
    "plt.show()"
   ]
  },
  {
   "cell_type": "markdown",
   "id": "cc4453ff",
   "metadata": {},
   "source": [
    "### Make Figures"
   ]
  },
  {
   "cell_type": "code",
   "execution_count": 2,
   "id": "81056a83",
   "metadata": {},
   "outputs": [],
   "source": [
    "import matplotlib.pyplot as plt\n",
    "import seaborn as sns\n",
    "plt.style.use(\"seaborn-v0_8-whitegrid\")\n",
    "plt.style.use(\"default\")\n",
    "sns.set(\n",
    "    context='poster',\n",
    "    style='ticks',\n",
    "    font_scale=0.9,\n",
    "    rc={'axes.grid':True,\n",
    "        'grid.color':'.9',\n",
    "        'grid.linewidth':0.75}\n",
    ")\n",
    "plt.rcParams.update({'font.size': 16})\n",
    "from matplotlib.lines import Line2D\n",
    "\n",
    "import numpy as np\n",
    "import pickle"
   ]
  },
  {
   "cell_type": "code",
   "execution_count": 3,
   "id": "71e30e00",
   "metadata": {},
   "outputs": [],
   "source": [
    "def load_results(file):\n",
    "    with open(file, 'rb') as file:\n",
    "        results = pickle.load(file)\n",
    "    return results"
   ]
  },
  {
   "cell_type": "code",
   "execution_count": 45,
   "id": "db06aebb",
   "metadata": {},
   "outputs": [
    {
     "data": {
      "image/png": "[encoded data removed]",
      "text/plain": [
       "<Figure size 900x700 with 2 Axes>"
      ]
     },
     "metadata": {},
     "output_type": "display_data"
    }
   ],
   "source": [
    "fig, axes = plt.subplots(2, 1, figsize=(9, 7))\n",
    "colors = ['#0868ac', '#bd0026', '#fd8d3c']\n",
    "\n",
    "fontsize = 25\n",
    "lw = 4\n",
    "\n",
    "methods = [\"FTL\", \"P-MLP (fourier)\", \"P-MLP (polynomial)\"]\n",
    "\n",
    "ax = axes[0]\n",
    "results = load_results(f\"embedding_results_ABAB.pkl\")\n",
    "t_list = results[\"t_list\"]\n",
    "prospective_risk = results[\"prospective_risk\"]\n",
    "for i, method in enumerate(methods):\n",
    "    ax.plot(t_list, prospective_risk[method], color=colors[i], lw=lw, label=method)\n",
    "    ax.set_yticks([0, 0.5, 1])\n",
    "    ax.set_ylim([-0.05, 1.05])\n",
    "    ax.set_xlim([t_list[0], t_list[-1]])\n",
    "ax.set_title(\"Periodic Process\", fontsize=fontsize)\n",
    "\n",
    "ax = axes[1]\n",
    "results = load_results(f\"embedding_results_Linear.pkl\")\n",
    "t_list = results[\"t_list\"]\n",
    "prospective_risk = results[\"prospective_risk\"]\n",
    "for i, method in enumerate(methods):\n",
    "    ax.plot(t_list, prospective_risk[method], color=colors[i], lw=lw, label=method)\n",
    "    ax.set_yticks([0, 0.5, 1])\n",
    "    ax.set_ylim([-0.05, 1.05])\n",
    "    ax.set_xlim([t_list[0], t_list[-1]])\n",
    "ax.set_title(\"Linear Process\", fontsize=fontsize)\n",
    "\n",
    "for ax in axes:\n",
    "    ax.plot(t_list, np.zeros_like(t_list), lw=lw, ls='dashed', color='k', label=\"Bayes Risk\")\n",
    "    ax.plot(t_list, 0.5*np.ones_like(t_list), lw=lw, ls='dashed', color='#238b45', label=\"Chance Risk\")\n",
    "    ax.set_xlabel(\"Time (t)\", fontsize=fontsize)\n",
    "    ax.set_ylabel(\"Prospective \\n Risk\", fontsize=fontsize)\n",
    "    ax.tick_params(axis='both', labelsize=fontsize)\n",
    "    ax.grid(visible=True)\n",
    "\n",
    "plt.subplots_adjust(hspace=0.70)\n",
    "\n",
    "legend_elements = [\n",
    "    Line2D([0], [0], color='k', lw=4, ls='dashed', label='Bayes Risk'),\n",
    "    Line2D([0], [0], color='#238b45', lw=4, ls='dashed', label='Chance Risk'),\n",
    "    Line2D([0], [0], color='#0868ac', lw=4, label='FTL'),\n",
    "    Line2D([0], [0], color='#bd0026', lw=4, label='P-MLP (Fourier)'),\n",
    "    Line2D([0], [0], color='#fd8d3c', lw=4, label='P-MLP (Polynomial)'),\n",
    "]\n",
    "\n",
    "ax = axes[1]\n",
    "ax.legend(\n",
    "    handles=legend_elements, \n",
    "    frameon=False, \n",
    "    loc='upper left', \n",
    "    bbox_to_anchor=(1, 2),\n",
    "    fontsize=fontsize   \n",
    ")\n",
    "\n",
    "plt.savefig(f\"figures/3_effect_of_time_embed.pdf\", bbox_inches='tight')\n",
    "plt.show()"
   ]
  },
  {
   "cell_type": "code",
   "execution_count": 44,
   "id": "8159dc11",
   "metadata": {},
   "outputs": [
    {
     "data": {
      "image/png": "[encoded data removed]",
      "text/plain": [
       "<Figure size 640x480 with 1 Axes>"
      ]
     },
     "metadata": {},
     "output_type": "display_data"
    }
   ],
   "source": [
    "x, y, t = dp.generate_sequence(1996)\n",
    "\n",
    "for i in range(1, 10):\n",
    "    indices = (t == i)\n",
    "    xi = x[indices]\n",
    "    ti = t[indices]\n",
    "    yi = y[indices]\n",
    "    plt.scatter(ti[yi == 0], xi[yi == 0], color='red')\n",
    "    plt.scatter(ti[yi == 1], xi[yi == 1], color='blue')\n",
    "plt.xlabel(\"Time\")\n",
    "plt.ylabel(\"x\")\n",
    "plt.show()"
   ]
  },
  {
   "cell_type": "code",
   "execution_count": null,
   "id": "7fe10ce8",
   "metadata": {},
   "outputs": [],
   "source": []
  }
 ],
 "metadata": {
  "kernelspec": {
   "display_name": ".venv",
   "language": "python",
   "name": "python3"
  },
  "language_info": {
   "codemirror_mode": {
    "name": "ipython",
    "version": 3
   },
   "file_extension": ".py",
   "mimetype": "text/x-python",
   "name": "python",
   "nbconvert_exporter": "python",
   "pygments_lexer": "ipython3",
   "version": "3.11.11"
  }
 },
 "nbformat": 4,
 "nbformat_minor": 5
}
